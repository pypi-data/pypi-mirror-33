{
 "cells": [
  {
   "cell_type": "markdown",
   "metadata": {},
   "source": [
    "<img src=\"http://xanadu-img.s3-website-us-east-1.amazonaws.com/logo.png\" width=70%>\n",
    "\n",
    "---\n",
    "\n",
    "<br>\n",
    "\n",
    "<center> <h1> Gaussian boson sampling tutorial </h1></center>\n",
    "\n",
    "Now that we are familiar with how Strawberry Fields works, let's try a slightly different example - *Gaussian* boson sampling. While similar to boson sampling, Gaussian boson sampling - as the name implies - makes use of Gaussian states."
   ]
  },
  {
   "cell_type": "markdown",
   "metadata": {},
   "source": [
    "## Gaussian states\n",
    "---\n",
    "\n",
    "A Gaussian state is one that can be described by a [Gaussian function](https://en.wikipedia.org/wiki/Gaussian_function) in the phase space. For example, for a single mode Gaussian state, squeezed in the $x$ quadrature by squeezing operator $S(r)$, could be described by the following [Wigner quasiprobability distribution](Wigner quasiprobability distribution):\n",
    "\n",
    "$$W(x,p) = \\frac{2}{\\pi}e^{-2\\sigma^2(x-\\bar{x})^2 - 2(p-\\bar{p})^2/\\sigma^2}$$\n",
    "\n",
    "where $\\sigma$ represents the **squeezing**, and $\\bar{x}$ and $\\bar{p}$ are the mean **displacement**, respectively. For multimode states containing $N$ modes, this can be generalised; Gaussian states are uniquely defined by a [multivariate Gaussian function](https://en.wikipedia.org/wiki/Multivariate_normal_distribution), defined in terms of the **vector of means** ${\\mu}$ and a **covariance matrix** $\\sigma$.\n",
    "\n",
    "### The position and momentum basis\n",
    "\n",
    "For example, consider a single mode in the position and momentum quadrature basis (the default for Strawberry Fields). Assuming a Gaussian state with displacement $\\alpha = \\bar{x}+i\\bar{p}$ and squeezing $z = r e^{i\\phi}$ in the phase space, it has a vector of means and a covariance matrix given by:\n",
    "\n",
    "$$ \\mu = (\\bar{x},\\bar{p}),~~~~~~\\sigma = SS\\dagger=R(\\phi/2)\\begin{bmatrix}e^{-2r} & 0 \\\\0 & e^{2r} \\\\\\end{bmatrix}R(\\phi/2)^T$$\n",
    "\n",
    "where $S$ is the squeezing operator, and $R(\\phi)$ is the standard two-dimensional rotation matrix. For multiple modes, in Strawberry Fields we use the convention \n",
    "\n",
    "$$ \\mu = (\\bar{x}_1,\\bar{x}_2,\\dots,\\bar{x}_N,\\bar{p}_1,\\bar{p}_2,\\dots,\\bar{p}_N)$$\n",
    "\n",
    "and therefore, considering $\\phi=0$ for convenience, the multimode covariance matrix is simply\n",
    "\n",
    "$$\\sigma = \\text{diag}(e^{-2r_1},\\dots,e^{-2r_N},e^{2r_1},\\dots,e^{2r_N})\\in\\mathbb{C}^{2N\\times 2N}$$\n",
    "\n",
    "If a continuous-variable state *cannot* be represented in the above form (for example, a single photon Fock state or a cat state), then it is non-Gaussian.\n",
    "\n",
    "### The annihilation and creation operator basis\n",
    "\n",
    "If we are instead working in the creation and annihilation operator basis, we can use the transformation of the single mode squeezing operator\n",
    "\n",
    "$$ S(z) \\left[\\begin{matrix}\\hat{a}\\\\\\hat{a}^\\dagger\\end{matrix}\\right] = \\left[\\begin{matrix}\\cosh(r)&-e^{i\\phi}\\sinh(r)\\\\-e^{-i\\phi}\\sinh(r)&\\cosh(r)\\end{matrix}\\right] \\left[\\begin{matrix}\\hat{a}\\\\\\hat{a}^\\dagger\\end{matrix}\\right]$$\n",
    "\n",
    "resulting in\n",
    "\n",
    "$$\\sigma = SS^\\dagger = \\left[\\begin{matrix}\\cosh(2r)&-e^{i\\phi}\\sinh(2r)\\\\-e^{-i\\phi}\\sinh(2r)&\\cosh(2r)\\end{matrix}\\right]$$\n",
    "\n",
    "For multiple Gaussian states with non-zero squeezing, the covariance matrix in this basis simply generalises to\n",
    "\n",
    "$$\\sigma = \\text{diag}(S_1S_1^\\dagger,\\dots,S_NS_N^\\dagger)\\in\\mathbb{C}^{2N\\times 2N}$$"
   ]
  },
  {
   "cell_type": "markdown",
   "metadata": {},
   "source": [
    "## Introduction to Gaussian boson sampling\n",
    "---\n",
    "\n",
    "<div class=\"alert alert-info\">\n",
    "“If you need to wait exponential time for \\[your single photon sources to emit simultaneously\\], then there would seem to be no advantage over classical computation. This is the reason why so far, boson sampling has only been demonstrated with 3-4 photons. When faced with these problems, until recently, all we could do was shrug our shoulders.” - [Scott Aaronson](https://www.scottaaronson.com/blog/?p=1579)\n",
    "</div>\n",
    "\n",
    "While boson sampling allows the experimental implementation of a sampling problem that it countably hard classically, one of the main issues it has in experimental setups is one of **scalability**, due to its dependence on an array of simultaneously emitting single photon sources.\n",
    "\n",
    "Currently, most physical implementations of boson sampling make use of a process known as [Spontaneous Parametric Down-Conversion](http://en.wikipedia.org/wiki/Spontaneous_parametric_down-conversion) to generate the single photon source inputs. Unfortunately, this method is non-deterministic - as the number of modes in the apparatus increases, the average time required until every photon source emits a simultaneous photon increases *exponentially*.\n",
    "\n",
    "In order to simulate a *deterministic* single photon source array, several variations on boson sampling have been proposed; the most well known being scattershot boson sampling ([Lund, 2014](https://link.aps.org/doi/10.1103/PhysRevLett.113.100502)). However, a recent boson sampling variation by [Hamilton et al.](https://link.aps.org/doi/10.1103/PhysRevLett.119.170501) negates the need for single photon Fock states altogether, by showing that **incident Gaussian states** - in this case, single mode squeezed states - can produce problems in the same computational complexity class as boson sampling. Even more significantly, this negates the scalability problem with single photon sources, as single mode squeezed states can be easily simultaneously generated experimentally.\n",
    "\n",
    "Aside from changing the input states from single photon Fock states to Gaussian states, the Gaussian boson sampling scheme appears quite similar to that of boson sampling:\n",
    "\n",
    "1. $N$ single mode squeezed states $\\left|{z_i}\\right\\rangle$, with squeezing parameters $z_i=r_ie^{i\\phi_i}$, enter an $N$ mode linear interferometer with unitary $U$.\n",
    "   <br>\n",
    "  \n",
    "2. The output of the interferometer is denoted $\\left|{\\psi'}\\right\\rangle$. Each output mode is then measured in the Fock basis, $\\bigotimes_i n_i\\left|{n_i}\\middle\\rangle\\middle\\langle{n_i}\\right|$.\n",
    "\n",
    "Without loss of generality, we can absorb the squeezing parameter $\\phi$ into the interferometer, and set $\\phi=0$ for convenience. The covariance matrix **in the creation and annihilation operator basis** at the output of the interferometer is then given by:\n",
    "\n",
    "$$\\sigma_{out} = \\frac{1}{2} \\left[ \\begin{matrix}U&0\\\\0&U^*\\end{matrix} \\right]\\sigma_{in} \\left[ \\begin{matrix}U^\\dagger&0\\\\0&U^T\\end{matrix} \\right]$$\n",
    "\n",
    "Using phase space methods, [Hamilton et al.](https://link.aps.org/doi/10.1103/PhysRevLett.119.170501) showed that the probability of measuring a Fock state is given by\n",
    "\n",
    "$$\\left|\\left\\langle{n_1,n_2,\\dots,n_N}\\middle|{\\psi'}\\right\\rangle\\right|^2 = \\frac{\\left|\\text{Haf}[(U\\bigoplus_i\\tanh(r_i)U^T)]_{st}\\right|^2}{n_1!n_2!\\cdots n_N!\\sqrt{|\\sigma_{out}+I/2|}},$$\n",
    "\n",
    "i.e. the sampled single photon probability distribution is proportional to the **Hafnian** of a submatrix of $U\\bigoplus_i\\tanh(r_i)U^T$, dependent upon the output covariance matrix.\n",
    "\n",
    "<div class=\"alert alert-success\" style=\"border: 0px; border-left: 3px solid #119a68; color: black; background-color: #daf0e9\">\n",
    "\n",
    "<p style=\"color: #119a68;\">**The Hafnian**</p>\n",
    "\n",
    "The Hafnian of a matrix is defined by\n",
    "<br><br>\n",
    "$$\\text{Haf}(A) = \\frac{1}{n!2^n}\\sum_{\\sigma=S_{2N}}\\prod_{i=1}^N A_{\\sigma(2i-1)\\sigma(2i)}$$\n",
    "<br>\n",
    "\n",
    "$S_{2N}$ is the set of all permutations of $2N$ elements. In graph theory, the Hafnian calculates the number of perfect <a href=\"https://en.wikipedia.org/wiki/Matching_(graph_theory)\">matchings</a> in an **arbitrary graph** with adjacency matrix $A$.\n",
    "<br>\n",
    "\n",
    "Compare this to the permanent, which calculates the number of perfect matchings on a *bipartite* graph - the Hafnian turns out to be a generalisation of the permanent, with the relationship\n",
    "\n",
    "$$\\begin{align}\n",
    "\\text{Per(A)} = \\text{Haf}\\left(\\left[\\begin{matrix}\n",
    "0&A\\\\\n",
    "A^T&0\n",
    "\\end{matrix}\\right]\\right)\n",
    "\\end{align}$$\n",
    "\n",
    "As any algorithm that could calculate (or even approximate) the Hafnian could also calculate the permanent - a #P problem - it follows that calculating or approximating the Hafnian must also be a classically hard problem.\n",
    "</div>\n",
    "\n",
    "### Equally squeezed input states\n",
    "\n",
    "In the case where all the input states are squeezed equally with squeezing factor $z=r$ (i.e. so $\\phi=0$), we can simplify the denominator into a much nicer form. It can be easily seen that, due to the unitarity of $U$,\n",
    "\n",
    "$$\\left[ \\begin{matrix}U&0\\\\0&U^*\\end{matrix} \\right] \\left[ \\begin{matrix}U^\\dagger&0\\\\0&U^T\\end{matrix} \\right] = \\left[ \\begin{matrix}UU^\\dagger&0\\\\0&U^*U^T\\end{matrix} \\right] =I$$\n",
    "\n",
    "Thus, we have \n",
    "\n",
    "$$\\begin{align}\n",
    "\\sigma_{out} +\\frac{1}{2}I &= \\sigma_{out} + \\frac{1}{2} \\left[ \\begin{matrix}U&0\\\\0&U^*\\end{matrix} \\right] \\left[ \\begin{matrix}U^\\dagger&0\\\\0&U^T\\end{matrix} \\right] = \\left[ \\begin{matrix}U&0\\\\0&U^*\\end{matrix} \\right] \\frac{1}{2} \\left(\\sigma_{in}+I\\right) \\left[ \\begin{matrix}U^\\dagger&0\\\\0&U^T\\end{matrix} \\right]\n",
    "\\end{align}$$\n",
    "\n",
    "where we have subtituted in the expression for $\\sigma_{out}$. Taking the determinants of both sides, the two block diagonal matrices containing $U$ are unitary, and thus have determinant 1, resulting in\n",
    "\n",
    "$$\\left|\\sigma_{out} +\\frac{1}{2}I\\right| =\\left|\\frac{1}{2}\\left(\\sigma_{in}+I\\right)\\right|=\\left|\\frac{1}{2}\\left(SS^\\dagger+I\\right)\\right| $$\n",
    "\n",
    "By expanding out the right hand side, and using various trig identities, it is easy to see that this simply reduces to $\\cosh^{2N}(r)$ where $N$ is the number of modes; thus the Gaussian boson sampling problem in the case of equally squeezed input modes reduces to\n",
    "\n",
    "$$\\left|\\left\\langle{n_1,n_2,\\dots,n_N}\\middle|{\\psi'}\\right\\rangle\\right|^2 = \\frac{\\left|\\text{Haf}[(UU^T\\tanh(r))]_{st}\\right|^2}{n_1!n_2!\\cdots n_N!\\cosh^N(r)},$$"
   ]
  },
  {
   "cell_type": "markdown",
   "metadata": {},
   "source": [
    "## Continuous-variable implementation\n",
    "---\n",
    "As with the boson sampling problem, the multimode linear interferometer can be decomposed into two-mode beamsplitters (`BSgate`) and single-mode phase shifters (`Rgate`) (<a href=\"https://doi.org/10.1103/physrevlett.73.58\">Reck, 1994</a>), allowing for an almost trivial translation into a continuous-variable quantum circuit.\n",
    "\n",
    "For example, in the case of a 4 mode interferometer, with arbitrary $4\\times 4$ unitary $U$, the continuous-variable quantum circuit for Gaussian boson sampling is given by\n",
    "\n",
    "<img src=\"https://s3.amazonaws.com/xanadu-img/gaussian_boson_sampling.svg\" width=70%/>\n",
    "\n",
    "In the above,\n",
    "\n",
    "* the single mode squeeze states all apply identical squeezing $z=r$,\n",
    "* the detectors perform Fock state measurements (i.e. measuring the photon number of each mode),\n",
    "* the parameters of the beamsplitters and the rotation gates determines the unitary $U$.\n",
    "\n",
    "As with boson sampling, for $N$ input modes, we must have a minimum of $N$ columns in the beamsplitter array ([Clements, 2016](https://arxiv.org/abs/1603.08788))."
   ]
  },
  {
   "cell_type": "markdown",
   "metadata": {},
   "source": [
    "## Simulating boson sampling in Strawberry Fields\n",
    "---\n",
    "\n"
   ]
  },
  {
   "cell_type": "code",
   "execution_count": 1,
   "metadata": {},
   "outputs": [],
   "source": [
    "import strawberryfields as sf\n",
    "from strawberryfields.ops import *\n",
    "\n",
    "eng, q = sf.Engine(4)\n",
    "\n",
    "with eng:\n",
    "    # prepare the input squeezed states\n",
    "    S = Sgate(1)\n",
    "    S | q[0]\n",
    "    S | q[1]\n",
    "    S | q[2]\n",
    "    S | q[3]\n",
    "\n",
    "    # rotation gates\n",
    "    Rgate(0.5719) | q[0]\n",
    "    Rgate(-1.9782) | q[1]\n",
    "    Rgate(2.0603) | q[2]\n",
    "    Rgate(0.0644) | q[3]\n",
    "\n",
    "    # beamsplitter array\n",
    "    BSgate(0.7804, 0.8578) | (q[0], q[1])\n",
    "    BSgate(0.06406, 0.5165) | (q[2], q[3])\n",
    "    BSgate(0.473, 0.1176) | (q[1], q[2])\n",
    "    BSgate(0.563, 0.1517) | (q[0], q[1])\n",
    "    BSgate(0.1323, 0.9946) | (q[2], q[3])\n",
    "    BSgate(0.311, 0.3231) | (q[1], q[2])\n",
    "    BSgate(0.4348, 0.0798) | (q[0], q[1])\n",
    "    BSgate(0.4368, 0.6157) | (q[2], q[3])\n",
    "    \n",
    "state = eng.run('gaussian')"
   ]
  },
  {
   "cell_type": "markdown",
   "metadata": {},
   "source": [
    "Unlike in the boson sampling tutorial, the lack of Fock states means we can now use the Gaussian backend.\n",
    "\n",
    "In this example program, we are using input states with squeezing parameter $z=1$, and the same beamsplitter and rotation gate parameters as the previous boson sampling tutorial. This means we don't have to recompute the interferometer unitary, it is the same as last time.\n",
    "\n",
    "Below, I have reproduced the code to calculate $U$ for convenience."
   ]
  },
  {
   "cell_type": "code",
   "execution_count": 2,
   "metadata": {},
   "outputs": [],
   "source": [
    "import numpy as np\n",
    "from numpy.linalg import multi_dot\n",
    "from scipy.linalg import block_diag, det"
   ]
  },
  {
   "cell_type": "code",
   "execution_count": 3,
   "metadata": {},
   "outputs": [],
   "source": [
    "Rargs = [0.5719, -1.9782, 2.0603, 0.0644]\n",
    "\n",
    "BSargs = [\n",
    "    (0.7804, 0.8578),\n",
    "    (0.06406, 0.5165),\n",
    "    (0.473, 0.1176),\n",
    "    (0.563, 0.1517),\n",
    "    (0.1323, 0.9946),\n",
    "    (0.311, 0.3231),\n",
    "    (0.4348, 0.0798),\n",
    "    (0.4368, 0.6157)\n",
    "]"
   ]
  },
  {
   "cell_type": "code",
   "execution_count": 4,
   "metadata": {},
   "outputs": [
    {
     "name": "stdout",
     "output_type": "stream",
     "text": [
      "[[ 0.2195-0.2565j  0.6111+0.5242j -0.1027+0.4745j -0.0273+0.0373j]\n",
      " [ 0.4513+0.6026j  0.4570+0.0123j  0.1316-0.4504j  0.0353-0.0532j]\n",
      " [ 0.0387+0.4927j -0.0192-0.3218j -0.2408+0.5244j -0.4584+0.3296j]\n",
      " [-0.1566+0.2246j  0.1100-0.1638j -0.4212+0.1836j  0.8188+0.068j ]]\n"
     ]
    }
   ],
   "source": [
    "Uphase = np.diag([np.exp(1j*phi) for phi in Rargs])\n",
    "\n",
    "t_r_amplitudes = [(np.cos(q), np.exp(1j*p)*np.sin(q)) for q,p in BSargs]\n",
    "\n",
    "BSunitaries = [np.array([[t, -np.conj(r)], [r, t]]) for t,r in t_r_amplitudes]\n",
    "\n",
    "UBS1 = block_diag(*BSunitaries[0:2])\n",
    "UBS2 = block_diag([[1]], BSunitaries[2], [[1]])\n",
    "UBS3 = block_diag(*BSunitaries[3:5])\n",
    "UBS4 = block_diag([[1]], BSunitaries[5], [[1]])\n",
    "UBS5 = block_diag(*BSunitaries[6:8])\n",
    "\n",
    "U = multi_dot([UBS5, UBS4, UBS3, UBS2, UBS1, Uphase])\n",
    "\n",
    "print(np.round(U,4))"
   ]
  },
  {
   "cell_type": "markdown",
   "metadata": {},
   "source": [
    "## Analysis\n",
    "---\n",
    "\n",
    "Let's now verify the Gaussian boson sampling result, by comparing the output Fock state probabilities to the Hafnian, using the relationship\n",
    "\n",
    "$$\\left|\\left\\langle{n_1,n_2,\\dots,n_N}\\middle|{\\psi'}\\right\\rangle\\right|^2 = \\frac{\\left|\\text{Haf}[(UU^T\\tanh(r))]_{st}\\right|^2}{n_1!n_2!\\cdots n_N!\\cosh^N(r)}$$"
   ]
  },
  {
   "cell_type": "markdown",
   "metadata": {},
   "source": [
    "### Calculating the Hafnian\n",
    "\n",
    "For the right hand side numerator, we first calculate the submatrix $[(UU^T\\tanh(r))]_{st}$:"
   ]
  },
  {
   "cell_type": "code",
   "execution_count": 5,
   "metadata": {},
   "outputs": [],
   "source": [
    "B = (np.dot(U,U.T) * np.tanh(1))"
   ]
  },
  {
   "cell_type": "markdown",
   "metadata": {},
   "source": [
    "Unlike in the boson sampling case, in Gaussian boson sampling, we determine the submatrix by taking the rows and columns corresponding to the measured Fock state. For example, to calculate the submatrix in the case of the output measurement $\\left|{1,1,0,0}\\right\\rangle$,"
   ]
  },
  {
   "cell_type": "code",
   "execution_count": 6,
   "metadata": {},
   "outputs": [
    {
     "data": {
      "text/plain": [
       "array([[-0.10219728+0.32633851j,  0.55418347+0.28563583j],\n",
       "       [ 0.55418347+0.28563583j, -0.10505237+0.32960794j]])"
      ]
     },
     "execution_count": 6,
     "metadata": {},
     "output_type": "execute_result"
    }
   ],
   "source": [
    "B[:,[0,1]][[0,1]]"
   ]
  },
  {
   "cell_type": "markdown",
   "metadata": {},
   "source": [
    "To calculate the Hafnian in Python, we can use the direct definition\n",
    "\n",
    "$$\\text{Haf}(A) = \\frac{1}{n!2^n} \\sum_{\\sigma \\in S_{2n}} \\prod_{j=1}^n A_{\\sigma(2j - 1), \\sigma(2j)}$$\n",
    "\n",
    "Notice that this function counts each term in the definition multiple times, and renormalizes to remove the multiple counts by dividing by a factor $\\frac{1}{n!2^n}$. **This function is extremely slow!**"
   ]
  },
  {
   "cell_type": "code",
   "execution_count": 7,
   "metadata": {},
   "outputs": [],
   "source": [
    "from itertools import permutations\n",
    "from scipy.special import factorial\n",
    "\n",
    "def Haf(M):\n",
    "    n=len(M)\n",
    "    m=int(n/2)\n",
    "    haf=0.0\n",
    "    for i in permutations(range(n)):\n",
    "        prod=1.0\n",
    "        for j in range(m):\n",
    "            prod*=M[i[2*j],i[2*j+1]]\n",
    "        haf+=prod\n",
    "    return haf/(factorial(m)*(2**m))"
   ]
  },
  {
   "cell_type": "markdown",
   "metadata": {},
   "source": [
    "## Comparing to the SF result"
   ]
  },
  {
   "cell_type": "markdown",
   "metadata": {},
   "source": [
    "#### Let's compare the case of measuring at the output state $\\left|0,1,0,1\\right\\rangle$:"
   ]
  },
  {
   "cell_type": "code",
   "execution_count": 8,
   "metadata": {},
   "outputs": [
    {
     "data": {
      "text/plain": [
       "0.0020560972589773979"
      ]
     },
     "execution_count": 8,
     "metadata": {},
     "output_type": "execute_result"
    }
   ],
   "source": [
    "B = (np.dot(U,U.T) * np.tanh(1))[:, [1,3]][[1,3]]\n",
    "np.abs(Haf(B))**2 / np.cosh(1)**4"
   ]
  },
  {
   "cell_type": "code",
   "execution_count": 10,
   "metadata": {
    "scrolled": true
   },
   "outputs": [
    {
     "data": {
      "text/plain": [
       "0.0020560972589773979"
      ]
     },
     "execution_count": 10,
     "metadata": {},
     "output_type": "execute_result"
    }
   ],
   "source": [
    "state.fock_prob([0,1,0,1])"
   ]
  },
  {
   "cell_type": "markdown",
   "metadata": {},
   "source": [
    "#### For the measurement result $\\left|2,0,0,0\\right\\rangle$:"
   ]
  },
  {
   "cell_type": "code",
   "execution_count": 10,
   "metadata": {},
   "outputs": [
    {
     "data": {
      "text/plain": [
       "0.010312945253454881"
      ]
     },
     "execution_count": 10,
     "metadata": {},
     "output_type": "execute_result"
    }
   ],
   "source": [
    "B = (np.dot(U,U.T) * np.tanh(1))[:, [0,0]][[0,0]]\n",
    "np.abs(Haf(B))**2 / (2*np.cosh(1)**4)"
   ]
  },
  {
   "cell_type": "code",
   "execution_count": 11,
   "metadata": {},
   "outputs": [
    {
     "data": {
      "text/plain": [
       "0.01031294525345511"
      ]
     },
     "execution_count": 11,
     "metadata": {},
     "output_type": "execute_result"
    }
   ],
   "source": [
    "state.fock_prob([2,0,0,0])"
   ]
  },
  {
   "cell_type": "markdown",
   "metadata": {},
   "source": [
    "#### For the measurement result $\\left|1,1,0,0\\right\\rangle$:"
   ]
  },
  {
   "cell_type": "code",
   "execution_count": 12,
   "metadata": {},
   "outputs": [
    {
     "data": {
      "text/plain": [
       "0.068559563712223492"
      ]
     },
     "execution_count": 12,
     "metadata": {},
     "output_type": "execute_result"
    }
   ],
   "source": [
    "B = (np.dot(U,U.T) * np.tanh(1))[:, [0,1]][[0,1]]\n",
    "np.abs(Haf(B))**2 / np.cosh(1)**4"
   ]
  },
  {
   "cell_type": "code",
   "execution_count": 12,
   "metadata": {},
   "outputs": [
    {
     "data": {
      "text/plain": [
       "0.068559563712224603"
      ]
     },
     "execution_count": 12,
     "metadata": {},
     "output_type": "execute_result"
    }
   ],
   "source": [
    "state.fock_prob([1,1,0,0])"
   ]
  },
  {
   "cell_type": "markdown",
   "metadata": {},
   "source": [
    "#### For the measurement result $\\left|1,1,1,1\\right\\rangle$, this corresponds to the full matrix $B$:"
   ]
  },
  {
   "cell_type": "code",
   "execution_count": 14,
   "metadata": {},
   "outputs": [
    {
     "data": {
      "text/plain": [
       "0.0083429463998674833"
      ]
     },
     "execution_count": 14,
     "metadata": {},
     "output_type": "execute_result"
    }
   ],
   "source": [
    "B = (np.dot(U,U.T) * np.tanh(1))\n",
    "np.abs(Haf(B))**2 / np.cosh(1)**4"
   ]
  },
  {
   "cell_type": "code",
   "execution_count": 13,
   "metadata": {},
   "outputs": [
    {
     "data": {
      "text/plain": [
       "0.0083429463998678493"
      ]
     },
     "execution_count": 13,
     "metadata": {},
     "output_type": "execute_result"
    }
   ],
   "source": [
    "state.fock_prob([1,1,1,1])"
   ]
  },
  {
   "cell_type": "markdown",
   "metadata": {},
   "source": [
    "#### For the measurement result $\\left|0,0,0,0\\right\\rangle$, this corresponds to a **null** submatrix, which has a Hafnian of 1:"
   ]
  },
  {
   "cell_type": "code",
   "execution_count": 16,
   "metadata": {},
   "outputs": [
    {
     "data": {
      "text/plain": [
       "0.17637844761413471"
      ]
     },
     "execution_count": 16,
     "metadata": {},
     "output_type": "execute_result"
    }
   ],
   "source": [
    "1/np.cosh(1)**4"
   ]
  },
  {
   "cell_type": "code",
   "execution_count": 14,
   "metadata": {
    "scrolled": false
   },
   "outputs": [
    {
     "data": {
      "text/plain": [
       "0.17637844761413499"
      ]
     },
     "execution_count": 14,
     "metadata": {},
     "output_type": "execute_result"
    }
   ],
   "source": [
    "state.fock_prob([0,0,0,0])"
   ]
  },
  {
   "cell_type": "markdown",
   "metadata": {},
   "source": [
    "As you can see, like in the boson sampling tutorial, they agree with almost negligable difference.\n",
    "\n",
    "<div class=\"alert alert-success\" style=\"border: 0px; border-left: 3px solid #119a68; color: black; background-color: #daf0e9\">\n",
    "<p style=\"color: #119a68;\">**Exercises**</p>\n",
    "\n",
    "Repeat this notebook with \n",
    "<ol>\n",
    "    <li> The Fock backend, instead of the Gaussian backend</li>\n",
    "    <li> Different beamsplitter and rotation parameters</li>\n",
    "    <li> Input states with *differing* squeezed values $r_i$. You will need to modify the code to take into account the fact that the output covariance matrix determinant must now be calculated!\n",
    "</ol>\n",
    "</div>"
   ]
  },
  {
   "cell_type": "code",
   "execution_count": null,
   "metadata": {},
   "outputs": [],
   "source": []
  }
 ],
 "metadata": {
  "kernelspec": {
   "display_name": "Python 3",
   "language": "python",
   "name": "python3"
  },
  "language_info": {
   "codemirror_mode": {
    "name": "ipython",
    "version": 3
   },
   "file_extension": ".py",
   "mimetype": "text/x-python",
   "name": "python",
   "nbconvert_exporter": "python",
   "pygments_lexer": "ipython3",
   "version": "3.6.3"
  }
 },
 "nbformat": 4,
 "nbformat_minor": 2
}
