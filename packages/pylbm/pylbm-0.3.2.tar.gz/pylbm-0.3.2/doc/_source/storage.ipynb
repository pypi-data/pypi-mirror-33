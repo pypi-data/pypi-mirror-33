{
 "cells": [
  {
   "cell_type": "markdown",
   "metadata": {},
   "source": [
    "# The storage\n",
    "\n",
    "When you use pylbm, a generated code is performed using the descritpion of the scheme(s) (the velocities, the polynomials, the conserved moments, the equilibriums, ...). There are several generators already implemented\n",
    "\n",
    "- NumPy\n",
    "- Cython\n",
    "- Pythran (work in progress)\n",
    "- Loo.py (work in progress)\n",
    "\n",
    "To have best performance following the generator, you need a specific storage of the moments and distribution functions arrays. For example, it is preferable to have a storage like $[n_v, n_x, n_y, n_z]$ in NumPy $n_v$ is the number of velocities and $n_x$, $n_y$ and $n_z$ the grid size. It is due to the vectorized form of the algorithm. Whereas for Cython, it is preferable to have the storage $[n_x, n_y, n_z, n_v]$ using the pull algorithm.\n",
    "\n",
    "So, we have implemented a storage class that always gives to the user the same access to the moments and disribution functions arrays but with a different storage in memory for the generator. This class is called [Array](class_array.html#pylbm.storage.Array).\n",
    "\n",
    "It is really simple to create an array. You just need to give\n",
    "\n",
    "- the number of velocities,\n",
    "- the global grid size,\n",
    "- the size of the fictitious point in each direction,\n",
    "- the order of $[n_v, n_x, n_y, n_z]$ with the following indices\n",
    "    - 0: $n_v$\n",
    "    - 1: $n_x$\n",
    "    - 2: $n_y$\n",
    "    - 3: $n_z$\n",
    "\n",
    "  The default order is $[n_v, n_x, n_y, n_z]$.\n",
    "\n",
    "\n",
    "- the mpi topology (optional)\n",
    "- the type of the data (optional)\n",
    "\n",
    "    The default is double\n",
    "    \n",
    "## 2D example\n",
    "\n",
    "Suppose that you want to create an array with a grid size $[5, 10]$ and $9$ velocities with $1$ cell in each direction for the fictitious domain."
   ]
  },
  {
   "cell_type": "code",
   "execution_count": 25,
   "metadata": {
    "collapsed": false
   },
   "outputs": [],
   "source": [
    "from pylbm.storage import Array\n",
    "import numpy as np\n",
    "a = Array(9, [5, 10], [1, 1])"
   ]
  },
  {
   "cell_type": "code",
   "execution_count": 28,
   "metadata": {
    "collapsed": false
   },
   "outputs": [],
   "source": [
    "for i in range(a.nv):\n",
    "    a[i] = i"
   ]
  },
  {
   "cell_type": "code",
   "execution_count": 29,
   "metadata": {
    "collapsed": false
   },
   "outputs": [
    {
     "name": "stdout",
     "output_type": "stream",
     "text": [
      "[[[ 0.  0.  0.  0.  0.  0.  0.  0.  0.  0.]\n",
      "  [ 0.  0.  0.  0.  0.  0.  0.  0.  0.  0.]\n",
      "  [ 0.  0.  0.  0.  0.  0.  0.  0.  0.  0.]\n",
      "  [ 0.  0.  0.  0.  0.  0.  0.  0.  0.  0.]\n",
      "  [ 0.  0.  0.  0.  0.  0.  0.  0.  0.  0.]]\n",
      "\n",
      " [[ 1.  1.  1.  1.  1.  1.  1.  1.  1.  1.]\n",
      "  [ 1.  1.  1.  1.  1.  1.  1.  1.  1.  1.]\n",
      "  [ 1.  1.  1.  1.  1.  1.  1.  1.  1.  1.]\n",
      "  [ 1.  1.  1.  1.  1.  1.  1.  1.  1.  1.]\n",
      "  [ 1.  1.  1.  1.  1.  1.  1.  1.  1.  1.]]\n",
      "\n",
      " [[ 2.  2.  2.  2.  2.  2.  2.  2.  2.  2.]\n",
      "  [ 2.  2.  2.  2.  2.  2.  2.  2.  2.  2.]\n",
      "  [ 2.  2.  2.  2.  2.  2.  2.  2.  2.  2.]\n",
      "  [ 2.  2.  2.  2.  2.  2.  2.  2.  2.  2.]\n",
      "  [ 2.  2.  2.  2.  2.  2.  2.  2.  2.  2.]]\n",
      "\n",
      " [[ 3.  3.  3.  3.  3.  3.  3.  3.  3.  3.]\n",
      "  [ 3.  3.  3.  3.  3.  3.  3.  3.  3.  3.]\n",
      "  [ 3.  3.  3.  3.  3.  3.  3.  3.  3.  3.]\n",
      "  [ 3.  3.  3.  3.  3.  3.  3.  3.  3.  3.]\n",
      "  [ 3.  3.  3.  3.  3.  3.  3.  3.  3.  3.]]\n",
      "\n",
      " [[ 4.  4.  4.  4.  4.  4.  4.  4.  4.  4.]\n",
      "  [ 4.  4.  4.  4.  4.  4.  4.  4.  4.  4.]\n",
      "  [ 4.  4.  4.  4.  4.  4.  4.  4.  4.  4.]\n",
      "  [ 4.  4.  4.  4.  4.  4.  4.  4.  4.  4.]\n",
      "  [ 4.  4.  4.  4.  4.  4.  4.  4.  4.  4.]]\n",
      "\n",
      " [[ 5.  5.  5.  5.  5.  5.  5.  5.  5.  5.]\n",
      "  [ 5.  5.  5.  5.  5.  5.  5.  5.  5.  5.]\n",
      "  [ 5.  5.  5.  5.  5.  5.  5.  5.  5.  5.]\n",
      "  [ 5.  5.  5.  5.  5.  5.  5.  5.  5.  5.]\n",
      "  [ 5.  5.  5.  5.  5.  5.  5.  5.  5.  5.]]\n",
      "\n",
      " [[ 6.  6.  6.  6.  6.  6.  6.  6.  6.  6.]\n",
      "  [ 6.  6.  6.  6.  6.  6.  6.  6.  6.  6.]\n",
      "  [ 6.  6.  6.  6.  6.  6.  6.  6.  6.  6.]\n",
      "  [ 6.  6.  6.  6.  6.  6.  6.  6.  6.  6.]\n",
      "  [ 6.  6.  6.  6.  6.  6.  6.  6.  6.  6.]]\n",
      "\n",
      " [[ 7.  7.  7.  7.  7.  7.  7.  7.  7.  7.]\n",
      "  [ 7.  7.  7.  7.  7.  7.  7.  7.  7.  7.]\n",
      "  [ 7.  7.  7.  7.  7.  7.  7.  7.  7.  7.]\n",
      "  [ 7.  7.  7.  7.  7.  7.  7.  7.  7.  7.]\n",
      "  [ 7.  7.  7.  7.  7.  7.  7.  7.  7.  7.]]\n",
      "\n",
      " [[ 8.  8.  8.  8.  8.  8.  8.  8.  8.  8.]\n",
      "  [ 8.  8.  8.  8.  8.  8.  8.  8.  8.  8.]\n",
      "  [ 8.  8.  8.  8.  8.  8.  8.  8.  8.  8.]\n",
      "  [ 8.  8.  8.  8.  8.  8.  8.  8.  8.  8.]\n",
      "  [ 8.  8.  8.  8.  8.  8.  8.  8.  8.  8.]]]\n"
     ]
    }
   ],
   "source": [
    "print(a[:])"
   ]
  },
  {
   "cell_type": "code",
   "execution_count": 30,
   "metadata": {
    "collapsed": true
   },
   "outputs": [],
   "source": [
    "b = Array(9, [5, 10], [1, 1], sorder=[2, 1, 0])\n",
    "for i in range(b.nv):\n",
    "    b[i] = i"
   ]
  },
  {
   "cell_type": "code",
   "execution_count": 31,
   "metadata": {
    "collapsed": false
   },
   "outputs": [
    {
     "name": "stdout",
     "output_type": "stream",
     "text": [
      "[[[ 0.  0.  0.  0.  0.  0.  0.  0.  0.  0.]\n",
      "  [ 0.  0.  0.  0.  0.  0.  0.  0.  0.  0.]\n",
      "  [ 0.  0.  0.  0.  0.  0.  0.  0.  0.  0.]\n",
      "  [ 0.  0.  0.  0.  0.  0.  0.  0.  0.  0.]\n",
      "  [ 0.  0.  0.  0.  0.  0.  0.  0.  0.  0.]]\n",
      "\n",
      " [[ 1.  1.  1.  1.  1.  1.  1.  1.  1.  1.]\n",
      "  [ 1.  1.  1.  1.  1.  1.  1.  1.  1.  1.]\n",
      "  [ 1.  1.  1.  1.  1.  1.  1.  1.  1.  1.]\n",
      "  [ 1.  1.  1.  1.  1.  1.  1.  1.  1.  1.]\n",
      "  [ 1.  1.  1.  1.  1.  1.  1.  1.  1.  1.]]\n",
      "\n",
      " [[ 2.  2.  2.  2.  2.  2.  2.  2.  2.  2.]\n",
      "  [ 2.  2.  2.  2.  2.  2.  2.  2.  2.  2.]\n",
      "  [ 2.  2.  2.  2.  2.  2.  2.  2.  2.  2.]\n",
      "  [ 2.  2.  2.  2.  2.  2.  2.  2.  2.  2.]\n",
      "  [ 2.  2.  2.  2.  2.  2.  2.  2.  2.  2.]]\n",
      "\n",
      " [[ 3.  3.  3.  3.  3.  3.  3.  3.  3.  3.]\n",
      "  [ 3.  3.  3.  3.  3.  3.  3.  3.  3.  3.]\n",
      "  [ 3.  3.  3.  3.  3.  3.  3.  3.  3.  3.]\n",
      "  [ 3.  3.  3.  3.  3.  3.  3.  3.  3.  3.]\n",
      "  [ 3.  3.  3.  3.  3.  3.  3.  3.  3.  3.]]\n",
      "\n",
      " [[ 4.  4.  4.  4.  4.  4.  4.  4.  4.  4.]\n",
      "  [ 4.  4.  4.  4.  4.  4.  4.  4.  4.  4.]\n",
      "  [ 4.  4.  4.  4.  4.  4.  4.  4.  4.  4.]\n",
      "  [ 4.  4.  4.  4.  4.  4.  4.  4.  4.  4.]\n",
      "  [ 4.  4.  4.  4.  4.  4.  4.  4.  4.  4.]]\n",
      "\n",
      " [[ 5.  5.  5.  5.  5.  5.  5.  5.  5.  5.]\n",
      "  [ 5.  5.  5.  5.  5.  5.  5.  5.  5.  5.]\n",
      "  [ 5.  5.  5.  5.  5.  5.  5.  5.  5.  5.]\n",
      "  [ 5.  5.  5.  5.  5.  5.  5.  5.  5.  5.]\n",
      "  [ 5.  5.  5.  5.  5.  5.  5.  5.  5.  5.]]\n",
      "\n",
      " [[ 6.  6.  6.  6.  6.  6.  6.  6.  6.  6.]\n",
      "  [ 6.  6.  6.  6.  6.  6.  6.  6.  6.  6.]\n",
      "  [ 6.  6.  6.  6.  6.  6.  6.  6.  6.  6.]\n",
      "  [ 6.  6.  6.  6.  6.  6.  6.  6.  6.  6.]\n",
      "  [ 6.  6.  6.  6.  6.  6.  6.  6.  6.  6.]]\n",
      "\n",
      " [[ 7.  7.  7.  7.  7.  7.  7.  7.  7.  7.]\n",
      "  [ 7.  7.  7.  7.  7.  7.  7.  7.  7.  7.]\n",
      "  [ 7.  7.  7.  7.  7.  7.  7.  7.  7.  7.]\n",
      "  [ 7.  7.  7.  7.  7.  7.  7.  7.  7.  7.]\n",
      "  [ 7.  7.  7.  7.  7.  7.  7.  7.  7.  7.]]\n",
      "\n",
      " [[ 8.  8.  8.  8.  8.  8.  8.  8.  8.  8.]\n",
      "  [ 8.  8.  8.  8.  8.  8.  8.  8.  8.  8.]\n",
      "  [ 8.  8.  8.  8.  8.  8.  8.  8.  8.  8.]\n",
      "  [ 8.  8.  8.  8.  8.  8.  8.  8.  8.  8.]\n",
      "  [ 8.  8.  8.  8.  8.  8.  8.  8.  8.  8.]]]\n"
     ]
    }
   ],
   "source": [
    "print(b[:])"
   ]
  },
  {
   "cell_type": "markdown",
   "metadata": {},
   "source": [
    "You can see that the access of the data is the same for $a$ et $b$ whereas the sorder is not the same.\n",
    "\n",
    "If we look at the *array* attribute which is the real storage of our data"
   ]
  },
  {
   "cell_type": "code",
   "execution_count": 32,
   "metadata": {
    "collapsed": false
   },
   "outputs": [
    {
     "data": {
      "text/plain": [
       "(9, 5, 10)"
      ]
     },
     "execution_count": 32,
     "metadata": {},
     "output_type": "execute_result"
    }
   ],
   "source": [
    "a.array.shape"
   ]
  },
  {
   "cell_type": "code",
   "execution_count": 33,
   "metadata": {
    "collapsed": false
   },
   "outputs": [
    {
     "data": {
      "text/plain": [
       "(10, 5, 9)"
      ]
     },
     "execution_count": 33,
     "metadata": {},
     "output_type": "execute_result"
    }
   ],
   "source": [
    "b.array.shape"
   ]
  },
  {
   "cell_type": "markdown",
   "metadata": {},
   "source": [
    "you can see that it is not the same and it is exactly what we want. To do that, we use the [swapaxes](http://docs.scipy.org/doc/numpy/reference/generated/numpy.swapaxes.html) of numpy and we use this representation to have an access to our data."
   ]
  },
  {
   "cell_type": "markdown",
   "metadata": {},
   "source": [
    "## Access to the data with the conserved moments\n",
    "\n",
    "When you discribe your scheme, you define the conserved moments. It is usefull to have a direct acces to these moments by giving their name and not their indices in the array. So, it is possible to specify where are the conserved moments in the array.\n",
    "\n",
    "Let define conserved moments using sympy symbol."
   ]
  },
  {
   "cell_type": "code",
   "execution_count": 35,
   "metadata": {
    "collapsed": false
   },
   "outputs": [],
   "source": [
    "import sympy\n",
    "rho, u, v = sympy.symbols(\"rho, u, v\")"
   ]
  },
  {
   "cell_type": "markdown",
   "metadata": {},
   "source": [
    "We indicate to pylbm where are located these conserved moments in our array by giving a list of two elements: the first one is the scheme number and the second one the index in this scheme."
   ]
  },
  {
   "cell_type": "code",
   "execution_count": 45,
   "metadata": {
    "collapsed": false
   },
   "outputs": [],
   "source": [
    "a.set_conserved_moments({rho: [0, 0], u: [0, 2], v: [0, 1]}, [0, 9])"
   ]
  },
  {
   "cell_type": "code",
   "execution_count": 46,
   "metadata": {
    "collapsed": false
   },
   "outputs": [
    {
     "data": {
      "text/plain": [
       "array([[ 0.,  0.,  0.,  0.,  0.,  0.,  0.,  0.,  0.,  0.],\n",
       "       [ 0.,  0.,  0.,  0.,  0.,  0.,  0.,  0.,  0.,  0.],\n",
       "       [ 0.,  0.,  0.,  0.,  0.,  0.,  0.,  0.,  0.,  0.],\n",
       "       [ 0.,  0.,  0.,  0.,  0.,  0.,  0.,  0.,  0.,  0.],\n",
       "       [ 0.,  0.,  0.,  0.,  0.,  0.,  0.,  0.,  0.,  0.]])"
      ]
     },
     "execution_count": 46,
     "metadata": {},
     "output_type": "execute_result"
    }
   ],
   "source": [
    "a[rho]"
   ]
  },
  {
   "cell_type": "code",
   "execution_count": 47,
   "metadata": {
    "collapsed": false
   },
   "outputs": [
    {
     "data": {
      "text/plain": [
       "array([[ 2.,  2.,  2.,  2.,  2.,  2.,  2.,  2.,  2.,  2.],\n",
       "       [ 2.,  2.,  2.,  2.,  2.,  2.,  2.,  2.,  2.,  2.],\n",
       "       [ 2.,  2.,  2.,  2.,  2.,  2.,  2.,  2.,  2.,  2.],\n",
       "       [ 2.,  2.,  2.,  2.,  2.,  2.,  2.,  2.,  2.,  2.],\n",
       "       [ 2.,  2.,  2.,  2.,  2.,  2.,  2.,  2.,  2.,  2.]])"
      ]
     },
     "execution_count": 47,
     "metadata": {},
     "output_type": "execute_result"
    }
   ],
   "source": [
    "a[u]"
   ]
  },
  {
   "cell_type": "code",
   "execution_count": 48,
   "metadata": {
    "collapsed": false
   },
   "outputs": [
    {
     "data": {
      "text/plain": [
       "array([[ 1.,  1.,  1.,  1.,  1.,  1.,  1.,  1.,  1.,  1.],\n",
       "       [ 1.,  1.,  1.,  1.,  1.,  1.,  1.,  1.,  1.,  1.],\n",
       "       [ 1.,  1.,  1.,  1.,  1.,  1.,  1.,  1.,  1.,  1.],\n",
       "       [ 1.,  1.,  1.,  1.,  1.,  1.,  1.,  1.,  1.,  1.],\n",
       "       [ 1.,  1.,  1.,  1.,  1.,  1.,  1.,  1.,  1.,  1.]])"
      ]
     },
     "execution_count": 48,
     "metadata": {},
     "output_type": "execute_result"
    }
   ],
   "source": [
    "a[v]"
   ]
  },
  {
   "cell_type": "code",
   "execution_count": null,
   "metadata": {
    "collapsed": true
   },
   "outputs": [],
   "source": []
  }
 ],
 "metadata": {
  "kernelspec": {
   "display_name": "Python 2",
   "language": "python",
   "name": "python2"
  },
  "language_info": {
   "codemirror_mode": {
    "name": "ipython",
    "version": 2
   },
   "file_extension": ".py",
   "mimetype": "text/x-python",
   "name": "python",
   "nbconvert_exporter": "python",
   "pygments_lexer": "ipython2",
   "version": "2.7.12"
  }
 },
 "nbformat": 4,
 "nbformat_minor": 0
}
