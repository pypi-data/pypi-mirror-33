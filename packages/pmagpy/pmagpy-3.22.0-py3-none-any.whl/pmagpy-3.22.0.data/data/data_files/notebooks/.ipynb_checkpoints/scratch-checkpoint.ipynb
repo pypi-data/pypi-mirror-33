{
 "cells": [
  {
   "cell_type": "code",
   "execution_count": null,
   "metadata": {},
   "outputs": [],
   "source": [
    "from pmagpy import ipmag\n",
    "from pmagpy import new_builder as nb"
   ]
  },
  {
   "cell_type": "code",
   "execution_count": null,
   "metadata": {},
   "outputs": [],
   "source": [
    "ipmag.vgp_calc?"
   ]
  },
  {
   "cell_type": "code",
   "execution_count": null,
   "metadata": {},
   "outputs": [],
   "source": [
    "dir_path = \"/Users/nebula/Python/PmagPy/data_files/strip_magic\"\n",
    "con = nb.Contribution(dir_path)\n",
    "len(con.tables['specimens'].df)\n"
   ]
  },
  {
   "cell_type": "code",
   "execution_count": null,
   "metadata": {},
   "outputs": [],
   "source": [
    "#con.propagate_average_up(['lat', 'lon'], 'sites', 'samples')\n",
    "con.propagate_average_up(['dir_dec', 'dir_inc'], 'specimens', 'measurements')\n",
    "con.propagate_average_up(['dir_dec', 'dir_inc'], 'samples', 'specimens')\n",
    "con.propagate_average_up(['dir_dec', 'dir_inc'], 'sites', 'samples')\n",
    "\n",
    "#(['dir_dec', 'dir_inc'], 'specimens', 'sites')\n",
    "#con.tables['measurements'].df"
   ]
  },
  {
   "cell_type": "code",
   "execution_count": null,
   "metadata": {},
   "outputs": [],
   "source": [
    "con.tables['sites'].df.head()\n"
   ]
  },
  {
   "cell_type": "code",
   "execution_count": null,
   "metadata": {},
   "outputs": [],
   "source": [
    "con.tables['sites'].df = ipmag.vgp_calc(con.tables['sites'].df, 'no', \n",
    "                                        site_lon='lon', site_lat='lat', \n",
    "                                        dec_is='dir_dec', inc_is='dir_inc')"
   ]
  },
  {
   "cell_type": "code",
   "execution_count": null,
   "metadata": {},
   "outputs": [],
   "source": [
    "con.tables['sites'].write_magic_file?"
   ]
  },
  {
   "cell_type": "code",
   "execution_count": null,
   "metadata": {},
   "outputs": [],
   "source": [
    "con.write_table_to_file('sites', 'sites_with_vgps.txt')"
   ]
  },
  {
   "cell_type": "code",
   "execution_count": null,
   "metadata": {},
   "outputs": [],
   "source": [
    "from pmagpy import pmagplotlib\n",
    "from importlib import reload\n",
    "reload(pmagplotlib)\n",
    "!strip_magic.py -f /Users/nebula/Python/PmagPy/data_files/strip_magic/sites_with_vgps.txt -x age -y dec"
   ]
  },
  {
   "cell_type": "code",
   "execution_count": null,
   "metadata": {},
   "outputs": [],
   "source": [
    "dir_path = \"/Users/nebula/Desktop/data_files/3_0/McMurdo\"\n",
    "con = nb.Contribution(dir_path, read_tables=['specimens'])\n"
   ]
  },
  {
   "cell_type": "code",
   "execution_count": null,
   "metadata": {},
   "outputs": [],
   "source": [
    "df = con.tables['specimens'].df"
   ]
  },
  {
   "cell_type": "code",
   "execution_count": null,
   "metadata": {},
   "outputs": [],
   "source": [
    "print(df.loc['mc217a1']['method_codes'].iloc[0])\n",
    "print(df.loc['mc217a1']['method_codes'].iloc[1])\n",
    "\n",
    "df.loc['mc217a1'][['meas_step_max', 'meas_step_min', 'method_codes']]\n"
   ]
  },
  {
   "cell_type": "code",
   "execution_count": null,
   "metadata": {},
   "outputs": [],
   "source": [
    "\n",
    "\n",
    "\n",
    "df['meas_step_max'].unique()\n"
   ]
  },
  {
   "cell_type": "code",
   "execution_count": null,
   "metadata": {},
   "outputs": [],
   "source": [
    "df['meas_step_min'].unique()\n"
   ]
  },
  {
   "cell_type": "markdown",
   "metadata": {},
   "source": [
    "# tail checks"
   ]
  },
  {
   "cell_type": "code",
   "execution_count": 137,
   "metadata": {},
   "outputs": [
    {
     "name": "stdout",
     "output_type": "stream",
     "text": [
      "adding measurement column to measurements table!\n",
      "-I- overwriting /Users/nebula/Python/PmagPy/data_files/notebooks/measurements.txt\n",
      "-I- 54 records written to measurements file\n",
      "[0.1 0.1 0.1 0.1 0.1 0.1 0.1 0.1 0.1 0.1 0.1 0.1 0.1 0.1 0.1 0.1 0.1 0.1\n",
      " 0.1 0.1 0.1 0.1 0.1 0.1 0.1 0.1 0.1 0.1 0.1 0.1 0.1 0.1 0.1 0.1 0.1 0.1\n",
      " 0.1 0.1 0.1 0.1 0.1 0.1 0.1 0.1 0.1 0.1 0.1 0.1 0.1 0.1 0.1 0.1 0.1 0.1]\n"
     ]
    }
   ],
   "source": [
    "from pmagpy import new_builder as nb\n",
    "sio = nb.MagicDataFrame(\"/Users/nebula/Desktop/issue_323/sio_out.txt\")\n",
    "print(sio.df.dir_csd.values)"
   ]
  },
  {
   "cell_type": "code",
   "execution_count": 138,
   "metadata": {},
   "outputs": [
    {
     "name": "stdout",
     "output_type": "stream",
     "text": [
      "adding measurement column to measurements table!\n",
      "-I- overwriting /Users/nebula/Python/PmagPy/data_files/notebooks/measurements.txt\n",
      "-I- 54 records written to measurements file\n"
     ]
    }
   ],
   "source": [
    "generic = nb.MagicDataFrame(\"/Users/nebula/Desktop/issue_323/generic_out.txt\")"
   ]
  },
  {
   "cell_type": "code",
   "execution_count": 139,
   "metadata": {},
   "outputs": [
    {
     "name": "stdout",
     "output_type": "stream",
     "text": [
      "{'software_packages', 'standard', 'description', 'dir_csd'}\n",
      "set()\n",
      "[0.0, 0.0, 4e-05, 4e-05, 0.0, 0.0, 4e-05, 4e-05, 0.0, 4e-05, 0.0, 0.0, 4e-05, 4e-05, 0.0, 4e-05, 0.0, 0.0, 4e-05, 4e-05, 0.0, 4e-05, 0.0, 0.0, 4e-05, 4e-05, 0.0, 4e-05, 0.0, 0.0, 4e-05, 4e-05, 0.0, 4e-05, 0.0, 0.0, 4e-05, 4e-05, 0.0, 4e-05, 0.0, 0.0, 4e-05, 4e-05, 0.0, 0.0, 0.0, 4e-05, 0.0, 4e-05, 0.0, 0.0, 4e-05, 0.0]\n",
      "[0.0, 0.0, 4e-05, 4e-05, 0.0, 0.0, 4e-05, 4e-05, 0.0, 4e-05, 0.0, 0.0, 4e-05, 4e-05, 0.0, 4e-05, 0.0, 0.0, 4e-05, 4e-05, 0.0, 4e-05, 0.0, 0.0, 4e-05, 4e-05, 0.0, 4e-05, 0.0, 0.0, 4e-05, 4e-05, 0.0, 4e-05, 0.0, 0.0, 4e-05, 4e-05, 0.0, 4e-05, 0.0, 0.0, 4e-05, 4e-05, 0.0, 0.0, 0.0, 4e-05, 0.0, 4e-05, 0.0, 0.0, 4e-05, 0.0]\n",
      "[<class 'float'>, <class 'float'>, <class 'float'>, <class 'float'>, <class 'float'>, <class 'float'>, <class 'float'>, <class 'float'>, <class 'float'>, <class 'float'>, <class 'float'>, <class 'float'>, <class 'float'>, <class 'float'>, <class 'float'>, <class 'float'>, <class 'float'>, <class 'float'>, <class 'float'>, <class 'float'>, <class 'float'>, <class 'float'>, <class 'float'>, <class 'float'>, <class 'float'>, <class 'float'>, <class 'float'>, <class 'float'>, <class 'float'>, <class 'float'>, <class 'float'>, <class 'float'>, <class 'float'>, <class 'float'>, <class 'float'>, <class 'float'>, <class 'float'>, <class 'float'>, <class 'float'>, <class 'float'>, <class 'float'>, <class 'float'>, <class 'float'>, <class 'float'>, <class 'float'>, <class 'float'>, <class 'float'>, <class 'float'>, <class 'float'>, <class 'float'>, <class 'float'>, <class 'float'>, <class 'float'>, <class 'float'>]\n",
      "[<class 'float'>, <class 'float'>, <class 'float'>, <class 'float'>, <class 'float'>, <class 'float'>, <class 'float'>, <class 'float'>, <class 'float'>, <class 'float'>, <class 'float'>, <class 'float'>, <class 'float'>, <class 'float'>, <class 'float'>, <class 'float'>, <class 'float'>, <class 'float'>, <class 'float'>, <class 'float'>, <class 'float'>, <class 'float'>, <class 'float'>, <class 'float'>, <class 'float'>, <class 'float'>, <class 'float'>, <class 'float'>, <class 'float'>, <class 'float'>, <class 'float'>, <class 'float'>, <class 'float'>, <class 'float'>, <class 'float'>, <class 'float'>, <class 'float'>, <class 'float'>, <class 'float'>, <class 'float'>, <class 'float'>, <class 'float'>, <class 'float'>, <class 'float'>, <class 'float'>, <class 'float'>, <class 'float'>, <class 'float'>, <class 'float'>, <class 'float'>, <class 'float'>, <class 'float'>, <class 'float'>, <class 'float'>]\n",
      "LT-NO , LT-NO:LP-PI-TRM:LP-PI-ALT-PTRM:LP-PI-BT-MD:LP-PI-BT-IZZI, 0.0 ,  0.0\n",
      "LT-T-Z , LT-T-Z:LP-PI-TRM:LP-PI-ALT-PTRM:LP-PI-BT-MD:LP-PI-BT-IZZI, 0.0 ,  0.0\n",
      "LT-T-I , LT-T-I:LP-PI-TRM:LP-PI-ALT-PTRM:LP-PI-BT-MD:LP-PI-BT-IZZI, 4e-05 ,  4e-05\n",
      "LT-T-I , LT-T-I:LP-PI-TRM:LP-PI-ALT-PTRM:LP-PI-BT-MD:LP-PI-BT-IZZI, 4e-05 ,  4e-05\n",
      "LT-T-Z , LT-T-Z:LP-PI-TRM:LP-PI-ALT-PTRM:LP-PI-BT-MD:LP-PI-BT-IZZI, 0.0 ,  0.0\n",
      "LT-T-Z , LT-T-Z:LP-PI-TRM:LP-PI-ALT-PTRM:LP-PI-BT-MD:LP-PI-BT-IZZI, 0.0 ,  0.0\n",
      "LT-PTRM-I , LT-PTRM-I:LP-PI-TRM:LP-PI-ALT-PTRM:LP-PI-BT-MD:LP-PI-BT-IZZI, 4e-05 ,  4e-05\n",
      "LT-T-I , LT-T-I:LP-PI-TRM:LP-PI-ALT-PTRM:LP-PI-BT-MD:LP-PI-BT-IZZI, 4e-05 ,  4e-05\n",
      "LT-PTRM-MD , LT-PTRM-MD:LP-PI-TRM:LP-PI-ALT-PTRM:LP-PI-BT-MD:LP-PI-BT-IZZI, 0.0 ,  0.0\n",
      "LT-T-I , LT-T-I:LP-PI-TRM:LP-PI-ALT-PTRM:LP-PI-BT-MD:LP-PI-BT-IZZI, 4e-05 ,  4e-05\n",
      "LT-T-Z , LT-T-Z:LP-PI-TRM:LP-PI-ALT-PTRM:LP-PI-BT-MD:LP-PI-BT-IZZI, 0.0 ,  0.0\n",
      "LT-T-Z , LT-T-Z:LP-PI-TRM:LP-PI-ALT-PTRM:LP-PI-BT-MD:LP-PI-BT-IZZI, 0.0 ,  0.0\n",
      "LT-PTRM-I , LT-PTRM-I:LP-PI-TRM:LP-PI-ALT-PTRM:LP-PI-BT-MD:LP-PI-BT-IZZI, 4e-05 ,  4e-05\n",
      "LT-T-I , LT-T-I:LP-PI-TRM:LP-PI-ALT-PTRM:LP-PI-BT-MD:LP-PI-BT-IZZI, 4e-05 ,  4e-05\n",
      "LT-PTRM-MD , LT-PTRM-MD:LP-PI-TRM:LP-PI-ALT-PTRM:LP-PI-BT-MD:LP-PI-BT-IZZI, 0.0 ,  0.0\n",
      "LT-T-I , LT-T-I:LP-PI-TRM:LP-PI-ALT-PTRM:LP-PI-BT-MD:LP-PI-BT-IZZI, 4e-05 ,  4e-05\n",
      "LT-T-Z , LT-T-Z:LP-PI-TRM:LP-PI-ALT-PTRM:LP-PI-BT-MD:LP-PI-BT-IZZI, 0.0 ,  0.0\n",
      "LT-T-Z , LT-T-Z:LP-PI-TRM:LP-PI-ALT-PTRM:LP-PI-BT-MD:LP-PI-BT-IZZI, 0.0 ,  0.0\n",
      "LT-PTRM-I , LT-PTRM-I:LP-PI-TRM:LP-PI-ALT-PTRM:LP-PI-BT-MD:LP-PI-BT-IZZI, 4e-05 ,  4e-05\n",
      "LT-T-I , LT-T-I:LP-PI-TRM:LP-PI-ALT-PTRM:LP-PI-BT-MD:LP-PI-BT-IZZI, 4e-05 ,  4e-05\n",
      "LT-PTRM-MD , LT-PTRM-MD:LP-PI-TRM:LP-PI-ALT-PTRM:LP-PI-BT-MD:LP-PI-BT-IZZI, 0.0 ,  0.0\n",
      "LT-T-I , LT-T-I:LP-PI-TRM:LP-PI-ALT-PTRM:LP-PI-BT-MD:LP-PI-BT-IZZI, 4e-05 ,  4e-05\n",
      "LT-T-Z , LT-T-Z:LP-PI-TRM:LP-PI-ALT-PTRM:LP-PI-BT-MD:LP-PI-BT-IZZI, 0.0 ,  0.0\n",
      "LT-T-Z , LT-T-Z:LP-PI-TRM:LP-PI-ALT-PTRM:LP-PI-BT-MD:LP-PI-BT-IZZI, 0.0 ,  0.0\n",
      "LT-PTRM-I , LT-PTRM-I:LP-PI-TRM:LP-PI-ALT-PTRM:LP-PI-BT-MD:LP-PI-BT-IZZI, 4e-05 ,  4e-05\n",
      "LT-T-I , LT-T-I:LP-PI-TRM:LP-PI-ALT-PTRM:LP-PI-BT-MD:LP-PI-BT-IZZI, 4e-05 ,  4e-05\n",
      "LT-PTRM-MD , LT-PTRM-MD:LP-PI-TRM:LP-PI-ALT-PTRM:LP-PI-BT-MD:LP-PI-BT-IZZI, 0.0 ,  0.0\n",
      "LT-T-I , LT-T-I:LP-PI-TRM:LP-PI-ALT-PTRM:LP-PI-BT-MD:LP-PI-BT-IZZI, 4e-05 ,  4e-05\n",
      "LT-T-Z , LT-T-Z:LP-PI-TRM:LP-PI-ALT-PTRM:LP-PI-BT-MD:LP-PI-BT-IZZI, 0.0 ,  0.0\n",
      "LT-T-Z , LT-T-Z:LP-PI-TRM:LP-PI-ALT-PTRM:LP-PI-BT-MD:LP-PI-BT-IZZI, 0.0 ,  0.0\n",
      "LT-PTRM-I , LT-PTRM-I:LP-PI-TRM:LP-PI-ALT-PTRM:LP-PI-BT-MD:LP-PI-BT-IZZI, 4e-05 ,  4e-05\n",
      "LT-T-I , LT-T-I:LP-PI-TRM:LP-PI-ALT-PTRM:LP-PI-BT-MD:LP-PI-BT-IZZI, 4e-05 ,  4e-05\n",
      "LT-PTRM-MD , LT-PTRM-MD:LP-PI-TRM:LP-PI-ALT-PTRM:LP-PI-BT-MD:LP-PI-BT-IZZI, 0.0 ,  0.0\n",
      "LT-T-I , LT-T-I:LP-PI-TRM:LP-PI-ALT-PTRM:LP-PI-BT-MD:LP-PI-BT-IZZI, 4e-05 ,  4e-05\n",
      "LT-T-Z , LT-T-Z:LP-PI-TRM:LP-PI-ALT-PTRM:LP-PI-BT-MD:LP-PI-BT-IZZI, 0.0 ,  0.0\n",
      "LT-T-Z , LT-T-Z:LP-PI-TRM:LP-PI-ALT-PTRM:LP-PI-BT-MD:LP-PI-BT-IZZI, 0.0 ,  0.0\n",
      "LT-PTRM-I , LT-PTRM-I:LP-PI-TRM:LP-PI-ALT-PTRM:LP-PI-BT-MD:LP-PI-BT-IZZI, 4e-05 ,  4e-05\n",
      "LT-T-I , LT-T-I:LP-PI-TRM:LP-PI-ALT-PTRM:LP-PI-BT-MD:LP-PI-BT-IZZI, 4e-05 ,  4e-05\n",
      "LT-PTRM-MD , LT-PTRM-MD:LP-PI-TRM:LP-PI-ALT-PTRM:LP-PI-BT-MD:LP-PI-BT-IZZI, 0.0 ,  0.0\n",
      "LT-T-I , LT-T-I:LP-PI-TRM:LP-PI-ALT-PTRM:LP-PI-BT-MD:LP-PI-BT-IZZI, 4e-05 ,  4e-05\n",
      "LT-T-Z , LT-T-Z:LP-PI-TRM:LP-PI-ALT-PTRM:LP-PI-BT-MD:LP-PI-BT-IZZI, 0.0 ,  0.0\n",
      "LT-T-Z , LT-T-Z:LP-PI-TRM:LP-PI-ALT-PTRM:LP-PI-BT-MD:LP-PI-BT-IZZI, 0.0 ,  0.0\n",
      "LT-PTRM-I , LT-PTRM-I:LP-PI-TRM:LP-PI-ALT-PTRM:LP-PI-BT-MD:LP-PI-BT-IZZI, 4e-05 ,  4e-05\n",
      "LT-T-I , LT-T-I:LP-PI-TRM:LP-PI-ALT-PTRM:LP-PI-BT-MD:LP-PI-BT-IZZI, 4e-05 ,  4e-05\n",
      "LT-PTRM-MD , LT-PTRM-MD:LP-PI-TRM:LP-PI-ALT-PTRM:LP-PI-BT-MD:LP-PI-BT-IZZI, 0.0 ,  0.0\n",
      "LT-T-Z , LT-T-Z:LP-PI-TRM:LP-PI-ALT-PTRM:LP-PI-BT-MD:LP-PI-BT-IZZI, 0.0 ,  0.0\n",
      "LT-T-Z , LT-T-Z:LP-PI-TRM:LP-PI-ALT-PTRM:LP-PI-BT-MD:LP-PI-BT-IZZI, 0.0 ,  0.0\n",
      "LT-T-I , LT-T-I:LP-PI-TRM:LP-PI-ALT-PTRM:LP-PI-BT-MD:LP-PI-BT-IZZI, 4e-05 ,  4e-05\n",
      "LT-PTRM-MD , LT-PTRM-MD:LP-PI-TRM:LP-PI-ALT-PTRM:LP-PI-BT-MD:LP-PI-BT-IZZI, 0.0 ,  0.0\n",
      "LT-T-I , LT-T-I:LP-PI-TRM:LP-PI-ALT-PTRM:LP-PI-BT-MD:LP-PI-BT-IZZI, 4e-05 ,  4e-05\n",
      "LT-T-Z , LT-T-Z:LP-PI-TRM:LP-PI-ALT-PTRM:LP-PI-BT-MD:LP-PI-BT-IZZI, 0.0 ,  0.0\n",
      "LT-T-Z , LT-T-Z:LP-PI-TRM:LP-PI-ALT-PTRM:LP-PI-BT-MD:LP-PI-BT-IZZI, 0.0 ,  0.0\n",
      "LT-PTRM-I , LT-PTRM-I:LP-PI-TRM:LP-PI-ALT-PTRM:LP-PI-BT-MD:LP-PI-BT-IZZI, 4e-05 ,  4e-05\n",
      "LT-PTRM-MD , LT-PTRM-MD:LP-PI-TRM:LP-PI-ALT-PTRM:LP-PI-BT-MD:LP-PI-BT-IZZI, 0.0 ,  0.0\n"
     ]
    }
   ],
   "source": [
    "print(set(sio.df.columns) - set(generic.df.columns))\n",
    "print(set(generic.df.columns) - set(sio.df.columns))\n",
    "sio.df = sio.df[generic.df.columns]\n",
    "print(list(sio.df['treat_dc_field']))\n",
    "print(list(generic.df['treat_dc_field']))\n",
    "print([type(i) for i in list(sio.df['treat_dc_field'])])\n",
    "\n",
    "print([type(i) for i in list(generic.df['treat_dc_field'])])\n",
    "\n",
    "for num, i in enumerate(list(sio.df['treat_dc_field'])):\n",
    "    print(sio.df['method_codes'].iloc[num], \",\", generic.df['method_codes'].iloc[num], end=\", \")\n",
    "    print(i, \", \", generic.df['treat_dc_field'][num])"
   ]
  },
  {
   "cell_type": "code",
   "execution_count": 140,
   "metadata": {},
   "outputs": [
    {
     "data": {
      "text/html": [
       "<div>\n",
       "<style scoped>\n",
       "    .dataframe tbody tr th:only-of-type {\n",
       "        vertical-align: middle;\n",
       "    }\n",
       "\n",
       "    .dataframe tbody tr th {\n",
       "        vertical-align: top;\n",
       "    }\n",
       "\n",
       "    .dataframe thead th {\n",
       "        text-align: right;\n",
       "    }\n",
       "</style>\n",
       "<table border=\"1\" class=\"dataframe\">\n",
       "  <thead>\n",
       "    <tr style=\"text-align: right;\">\n",
       "      <th></th>\n",
       "      <th>method_codes</th>\n",
       "      <th>treat_dc_field</th>\n",
       "    </tr>\n",
       "    <tr>\n",
       "      <th>measurement</th>\n",
       "      <th></th>\n",
       "      <th></th>\n",
       "    </tr>\n",
       "  </thead>\n",
       "  <tbody>\n",
       "    <tr>\n",
       "      <th>KSG24A11</th>\n",
       "      <td>LT-NO</td>\n",
       "      <td>0</td>\n",
       "    </tr>\n",
       "    <tr>\n",
       "      <th>KSG24A11</th>\n",
       "      <td>LT-T-Z</td>\n",
       "      <td>0</td>\n",
       "    </tr>\n",
       "    <tr>\n",
       "      <th>KSG24A11</th>\n",
       "      <td>LT-T-I</td>\n",
       "      <td>4e-05</td>\n",
       "    </tr>\n",
       "    <tr>\n",
       "      <th>KSG24A11</th>\n",
       "      <td>LT-T-I</td>\n",
       "      <td>4e-05</td>\n",
       "    </tr>\n",
       "    <tr>\n",
       "      <th>KSG24A11</th>\n",
       "      <td>LT-T-Z</td>\n",
       "      <td>0</td>\n",
       "    </tr>\n",
       "    <tr>\n",
       "      <th>KSG24A11</th>\n",
       "      <td>LT-T-Z</td>\n",
       "      <td>0</td>\n",
       "    </tr>\n",
       "    <tr>\n",
       "      <th>KSG24A11</th>\n",
       "      <td>LT-PTRM-I</td>\n",
       "      <td>4e-05</td>\n",
       "    </tr>\n",
       "    <tr>\n",
       "      <th>KSG24A11</th>\n",
       "      <td>LT-T-I</td>\n",
       "      <td>4e-05</td>\n",
       "    </tr>\n",
       "    <tr>\n",
       "      <th>KSG24A11</th>\n",
       "      <td>LT-PTRM-MD</td>\n",
       "      <td>0</td>\n",
       "    </tr>\n",
       "    <tr>\n",
       "      <th>KSG24A11</th>\n",
       "      <td>LT-T-I</td>\n",
       "      <td>4e-05</td>\n",
       "    </tr>\n",
       "  </tbody>\n",
       "</table>\n",
       "</div>"
      ],
      "text/plain": [
       "            method_codes treat_dc_field\n",
       "measurement                            \n",
       "KSG24A11           LT-NO              0\n",
       "KSG24A11          LT-T-Z              0\n",
       "KSG24A11          LT-T-I          4e-05\n",
       "KSG24A11          LT-T-I          4e-05\n",
       "KSG24A11          LT-T-Z              0\n",
       "KSG24A11          LT-T-Z              0\n",
       "KSG24A11       LT-PTRM-I          4e-05\n",
       "KSG24A11          LT-T-I          4e-05\n",
       "KSG24A11      LT-PTRM-MD              0\n",
       "KSG24A11          LT-T-I          4e-05"
      ]
     },
     "execution_count": 140,
     "metadata": {},
     "output_type": "execute_result"
    }
   ],
   "source": [
    "sio.df.head(10)[['method_codes', 'treat_dc_field']]"
   ]
  },
  {
   "cell_type": "code",
   "execution_count": 141,
   "metadata": {},
   "outputs": [
    {
     "data": {
      "text/html": [
       "<div>\n",
       "<style scoped>\n",
       "    .dataframe tbody tr th:only-of-type {\n",
       "        vertical-align: middle;\n",
       "    }\n",
       "\n",
       "    .dataframe tbody tr th {\n",
       "        vertical-align: top;\n",
       "    }\n",
       "\n",
       "    .dataframe thead th {\n",
       "        text-align: right;\n",
       "    }\n",
       "</style>\n",
       "<table border=\"1\" class=\"dataframe\">\n",
       "  <thead>\n",
       "    <tr style=\"text-align: right;\">\n",
       "      <th></th>\n",
       "      <th>method_codes</th>\n",
       "      <th>treat_dc_field</th>\n",
       "    </tr>\n",
       "    <tr>\n",
       "      <th>measurement</th>\n",
       "      <th></th>\n",
       "      <th></th>\n",
       "    </tr>\n",
       "  </thead>\n",
       "  <tbody>\n",
       "    <tr>\n",
       "      <th>KSG24A0</th>\n",
       "      <td>LT-NO:LP-PI-TRM:LP-PI-ALT-PTRM:LP-PI-BT-MD:LP-...</td>\n",
       "      <td>0</td>\n",
       "    </tr>\n",
       "    <tr>\n",
       "      <th>KSG24A11</th>\n",
       "      <td>LT-T-Z:LP-PI-TRM:LP-PI-ALT-PTRM:LP-PI-BT-MD:LP...</td>\n",
       "      <td>0</td>\n",
       "    </tr>\n",
       "    <tr>\n",
       "      <th>KSG24A22</th>\n",
       "      <td>LT-T-I:LP-PI-TRM:LP-PI-ALT-PTRM:LP-PI-BT-MD:LP...</td>\n",
       "      <td>4e-05</td>\n",
       "    </tr>\n",
       "    <tr>\n",
       "      <th>KSG24A33</th>\n",
       "      <td>LT-T-I:LP-PI-TRM:LP-PI-ALT-PTRM:LP-PI-BT-MD:LP...</td>\n",
       "      <td>4e-05</td>\n",
       "    </tr>\n",
       "    <tr>\n",
       "      <th>KSG24A44</th>\n",
       "      <td>LT-T-Z:LP-PI-TRM:LP-PI-ALT-PTRM:LP-PI-BT-MD:LP...</td>\n",
       "      <td>0</td>\n",
       "    </tr>\n",
       "    <tr>\n",
       "      <th>KSG24A55</th>\n",
       "      <td>LT-T-Z:LP-PI-TRM:LP-PI-ALT-PTRM:LP-PI-BT-MD:LP...</td>\n",
       "      <td>0</td>\n",
       "    </tr>\n",
       "    <tr>\n",
       "      <th>KSG24A66</th>\n",
       "      <td>LT-PTRM-I:LP-PI-TRM:LP-PI-ALT-PTRM:LP-PI-BT-MD...</td>\n",
       "      <td>4e-05</td>\n",
       "    </tr>\n",
       "    <tr>\n",
       "      <th>KSG24A77</th>\n",
       "      <td>LT-T-I:LP-PI-TRM:LP-PI-ALT-PTRM:LP-PI-BT-MD:LP...</td>\n",
       "      <td>4e-05</td>\n",
       "    </tr>\n",
       "    <tr>\n",
       "      <th>KSG24A88</th>\n",
       "      <td>LT-PTRM-MD:LP-PI-TRM:LP-PI-ALT-PTRM:LP-PI-BT-M...</td>\n",
       "      <td>0</td>\n",
       "    </tr>\n",
       "    <tr>\n",
       "      <th>KSG24A99</th>\n",
       "      <td>LT-T-I:LP-PI-TRM:LP-PI-ALT-PTRM:LP-PI-BT-MD:LP...</td>\n",
       "      <td>4e-05</td>\n",
       "    </tr>\n",
       "  </tbody>\n",
       "</table>\n",
       "</div>"
      ],
      "text/plain": [
       "                                                  method_codes treat_dc_field\n",
       "measurement                                                                  \n",
       "KSG24A0      LT-NO:LP-PI-TRM:LP-PI-ALT-PTRM:LP-PI-BT-MD:LP-...              0\n",
       "KSG24A11     LT-T-Z:LP-PI-TRM:LP-PI-ALT-PTRM:LP-PI-BT-MD:LP...              0\n",
       "KSG24A22     LT-T-I:LP-PI-TRM:LP-PI-ALT-PTRM:LP-PI-BT-MD:LP...          4e-05\n",
       "KSG24A33     LT-T-I:LP-PI-TRM:LP-PI-ALT-PTRM:LP-PI-BT-MD:LP...          4e-05\n",
       "KSG24A44     LT-T-Z:LP-PI-TRM:LP-PI-ALT-PTRM:LP-PI-BT-MD:LP...              0\n",
       "KSG24A55     LT-T-Z:LP-PI-TRM:LP-PI-ALT-PTRM:LP-PI-BT-MD:LP...              0\n",
       "KSG24A66     LT-PTRM-I:LP-PI-TRM:LP-PI-ALT-PTRM:LP-PI-BT-MD...          4e-05\n",
       "KSG24A77     LT-T-I:LP-PI-TRM:LP-PI-ALT-PTRM:LP-PI-BT-MD:LP...          4e-05\n",
       "KSG24A88     LT-PTRM-MD:LP-PI-TRM:LP-PI-ALT-PTRM:LP-PI-BT-M...              0\n",
       "KSG24A99     LT-T-I:LP-PI-TRM:LP-PI-ALT-PTRM:LP-PI-BT-MD:LP...          4e-05"
      ]
     },
     "execution_count": 141,
     "metadata": {},
     "output_type": "execute_result"
    }
   ],
   "source": [
    "generic.df.head(10)[['method_codes', 'treat_dc_field']]"
   ]
  },
  {
   "cell_type": "code",
   "execution_count": 126,
   "metadata": {},
   "outputs": [
    {
     "ename": "ValueError",
     "evalue": "Can only compare identically-labeled DataFrame objects",
     "output_type": "error",
     "traceback": [
      "\u001b[0;31m---------------------------------------------------------------------------\u001b[0m",
      "\u001b[0;31mValueError\u001b[0m                                Traceback (most recent call last)",
      "\u001b[0;32m<ipython-input-126-c09982363735>\u001b[0m in \u001b[0;36m<module>\u001b[0;34m()\u001b[0m\n\u001b[0;32m----> 1\u001b[0;31m \u001b[0mcond\u001b[0m \u001b[0;34m=\u001b[0m \u001b[0msio\u001b[0m\u001b[0;34m.\u001b[0m\u001b[0mdf\u001b[0m \u001b[0;34m==\u001b[0m \u001b[0mgeneric\u001b[0m\u001b[0;34m.\u001b[0m\u001b[0mdf\u001b[0m\u001b[0;34m\u001b[0m\u001b[0m\n\u001b[0m\u001b[1;32m      2\u001b[0m \u001b[0mcols\u001b[0m \u001b[0;34m=\u001b[0m \u001b[0mgeneric\u001b[0m\u001b[0;34m.\u001b[0m\u001b[0mdf\u001b[0m\u001b[0;34m.\u001b[0m\u001b[0mcolumns\u001b[0m\u001b[0;34m.\u001b[0m\u001b[0mdrop\u001b[0m\u001b[0;34m(\u001b[0m\u001b[0;34m'treat_ac_field'\u001b[0m\u001b[0;34m)\u001b[0m\u001b[0;34m\u001b[0m\u001b[0m\n\u001b[1;32m      3\u001b[0m \u001b[0mnew_generic\u001b[0m \u001b[0;34m=\u001b[0m \u001b[0mgeneric\u001b[0m\u001b[0;34m.\u001b[0m\u001b[0mdf\u001b[0m\u001b[0;34m[\u001b[0m\u001b[0mcond\u001b[0m\u001b[0;34m]\u001b[0m\u001b[0;34m.\u001b[0m\u001b[0mdropna\u001b[0m\u001b[0;34m(\u001b[0m\u001b[0;36m1\u001b[0m\u001b[0;34m,\u001b[0m \u001b[0mhow\u001b[0m\u001b[0;34m=\u001b[0m\u001b[0;34m\"all\"\u001b[0m\u001b[0;34m)\u001b[0m \u001b[0;31m# + generic.df[['treat_ac_field']]\u001b[0m\u001b[0;34m\u001b[0m\u001b[0m\n\u001b[1;32m      4\u001b[0m \u001b[0mnew_generic\u001b[0m\u001b[0;34m[\u001b[0m\u001b[0;34m'treat_ac_field'\u001b[0m\u001b[0;34m]\u001b[0m \u001b[0;34m=\u001b[0m \u001b[0mgeneric\u001b[0m\u001b[0;34m.\u001b[0m\u001b[0mdf\u001b[0m\u001b[0;34m[\u001b[0m\u001b[0;34m'treat_ac_field'\u001b[0m\u001b[0;34m]\u001b[0m\u001b[0;34m\u001b[0m\u001b[0m\n\u001b[1;32m      5\u001b[0m \u001b[0mnew_generic\u001b[0m\u001b[0;34m\u001b[0m\u001b[0m\n",
      "\u001b[0;32m~/anaconda3/lib/python3.6/site-packages/pandas/core/ops.py\u001b[0m in \u001b[0;36mf\u001b[0;34m(self, other)\u001b[0m\n\u001b[1;32m   1324\u001b[0m     \u001b[0;32mdef\u001b[0m \u001b[0mf\u001b[0m\u001b[0;34m(\u001b[0m\u001b[0mself\u001b[0m\u001b[0;34m,\u001b[0m \u001b[0mother\u001b[0m\u001b[0;34m)\u001b[0m\u001b[0;34m:\u001b[0m\u001b[0;34m\u001b[0m\u001b[0m\n\u001b[1;32m   1325\u001b[0m         \u001b[0;32mif\u001b[0m \u001b[0misinstance\u001b[0m\u001b[0;34m(\u001b[0m\u001b[0mother\u001b[0m\u001b[0;34m,\u001b[0m \u001b[0mABCDataFrame\u001b[0m\u001b[0;34m)\u001b[0m\u001b[0;34m:\u001b[0m  \u001b[0;31m# Another DataFrame\u001b[0m\u001b[0;34m\u001b[0m\u001b[0m\n\u001b[0;32m-> 1326\u001b[0;31m             \u001b[0;32mreturn\u001b[0m \u001b[0mself\u001b[0m\u001b[0;34m.\u001b[0m\u001b[0m_compare_frame\u001b[0m\u001b[0;34m(\u001b[0m\u001b[0mother\u001b[0m\u001b[0;34m,\u001b[0m \u001b[0mfunc\u001b[0m\u001b[0;34m,\u001b[0m \u001b[0mstr_rep\u001b[0m\u001b[0;34m)\u001b[0m\u001b[0;34m\u001b[0m\u001b[0m\n\u001b[0m\u001b[1;32m   1327\u001b[0m         \u001b[0;32melif\u001b[0m \u001b[0misinstance\u001b[0m\u001b[0;34m(\u001b[0m\u001b[0mother\u001b[0m\u001b[0;34m,\u001b[0m \u001b[0mABCSeries\u001b[0m\u001b[0;34m)\u001b[0m\u001b[0;34m:\u001b[0m\u001b[0;34m\u001b[0m\u001b[0m\n\u001b[1;32m   1328\u001b[0m             \u001b[0;32mreturn\u001b[0m \u001b[0mself\u001b[0m\u001b[0;34m.\u001b[0m\u001b[0m_combine_series_infer\u001b[0m\u001b[0;34m(\u001b[0m\u001b[0mother\u001b[0m\u001b[0;34m,\u001b[0m \u001b[0mfunc\u001b[0m\u001b[0;34m,\u001b[0m \u001b[0mtry_cast\u001b[0m\u001b[0;34m=\u001b[0m\u001b[0;32mFalse\u001b[0m\u001b[0;34m)\u001b[0m\u001b[0;34m\u001b[0m\u001b[0m\n",
      "\u001b[0;32m~/anaconda3/lib/python3.6/site-packages/pandas/core/frame.py\u001b[0m in \u001b[0;36m_compare_frame\u001b[0;34m(self, other, func, str_rep, try_cast)\u001b[0m\n\u001b[1;32m   4015\u001b[0m     \u001b[0;32mdef\u001b[0m \u001b[0m_compare_frame\u001b[0m\u001b[0;34m(\u001b[0m\u001b[0mself\u001b[0m\u001b[0;34m,\u001b[0m \u001b[0mother\u001b[0m\u001b[0;34m,\u001b[0m \u001b[0mfunc\u001b[0m\u001b[0;34m,\u001b[0m \u001b[0mstr_rep\u001b[0m\u001b[0;34m,\u001b[0m \u001b[0mtry_cast\u001b[0m\u001b[0;34m=\u001b[0m\u001b[0;32mTrue\u001b[0m\u001b[0;34m)\u001b[0m\u001b[0;34m:\u001b[0m\u001b[0;34m\u001b[0m\u001b[0m\n\u001b[1;32m   4016\u001b[0m         \u001b[0;32mif\u001b[0m \u001b[0;32mnot\u001b[0m \u001b[0mself\u001b[0m\u001b[0;34m.\u001b[0m\u001b[0m_indexed_same\u001b[0m\u001b[0;34m(\u001b[0m\u001b[0mother\u001b[0m\u001b[0;34m)\u001b[0m\u001b[0;34m:\u001b[0m\u001b[0;34m\u001b[0m\u001b[0m\n\u001b[0;32m-> 4017\u001b[0;31m             raise ValueError('Can only compare identically-labeled '\n\u001b[0m\u001b[1;32m   4018\u001b[0m                              'DataFrame objects')\n\u001b[1;32m   4019\u001b[0m         return self._compare_frame_evaluate(other, func, str_rep,\n",
      "\u001b[0;31mValueError\u001b[0m: Can only compare identically-labeled DataFrame objects"
     ]
    }
   ],
   "source": [
    "cond = sio.df == generic.df\n",
    "cols = generic.df.columns.drop('treat_ac_field')\n",
    "new_generic = generic.df[cond].dropna(1, how=\"all\") # + generic.df[['treat_ac_field']]\n",
    "new_generic['treat_ac_field'] = generic.df['treat_ac_field']\n",
    "new_generic\n",
    "generic.df[-cond].dropna(1, how=\"all\").head()\n"
   ]
  },
  {
   "cell_type": "code",
   "execution_count": 93,
   "metadata": {},
   "outputs": [
    {
     "data": {
      "text/html": [
       "<div>\n",
       "<style scoped>\n",
       "    .dataframe tbody tr th:only-of-type {\n",
       "        vertical-align: middle;\n",
       "    }\n",
       "\n",
       "    .dataframe tbody tr th {\n",
       "        vertical-align: top;\n",
       "    }\n",
       "\n",
       "    .dataframe thead th {\n",
       "        text-align: right;\n",
       "    }\n",
       "</style>\n",
       "<table border=\"1\" class=\"dataframe\">\n",
       "  <thead>\n",
       "    <tr style=\"text-align: right;\">\n",
       "      <th></th>\n",
       "      <th>treat_dc_field</th>\n",
       "      <th>magn_moment</th>\n",
       "    </tr>\n",
       "    <tr>\n",
       "      <th>measurement</th>\n",
       "      <th></th>\n",
       "      <th></th>\n",
       "    </tr>\n",
       "  </thead>\n",
       "  <tbody>\n",
       "    <tr>\n",
       "      <th>KSG24A11</th>\n",
       "      <td>NaN</td>\n",
       "      <td>1.13e-08</td>\n",
       "    </tr>\n",
       "    <tr>\n",
       "      <th>KSG24A11</th>\n",
       "      <td>NaN</td>\n",
       "      <td>1.11e-08</td>\n",
       "    </tr>\n",
       "    <tr>\n",
       "      <th>KSG24A11</th>\n",
       "      <td>4e-11</td>\n",
       "      <td>1.09e-08</td>\n",
       "    </tr>\n",
       "    <tr>\n",
       "      <th>KSG24A11</th>\n",
       "      <td>4e-11</td>\n",
       "      <td>NaN</td>\n",
       "    </tr>\n",
       "    <tr>\n",
       "      <th>KSG24A11</th>\n",
       "      <td>NaN</td>\n",
       "      <td>1.08e-08</td>\n",
       "    </tr>\n",
       "  </tbody>\n",
       "</table>\n",
       "</div>"
      ],
      "text/plain": [
       "            treat_dc_field magn_moment\n",
       "measurement                           \n",
       "KSG24A11               NaN    1.13e-08\n",
       "KSG24A11               NaN    1.11e-08\n",
       "KSG24A11             4e-11    1.09e-08\n",
       "KSG24A11             4e-11         NaN\n",
       "KSG24A11               NaN    1.08e-08"
      ]
     },
     "execution_count": 93,
     "metadata": {},
     "output_type": "execute_result"
    }
   ],
   "source": [
    "sio.df[-cond].dropna(1, how='all').head()\n",
    "\n",
    "\n",
    "\n"
   ]
  },
  {
   "cell_type": "code",
   "execution_count": 94,
   "metadata": {},
   "outputs": [
    {
     "name": "stdout",
     "output_type": "stream",
     "text": [
      "[(nan, <class 'float'>), (nan, <class 'float'>), (4.0000000000000004e-11, <class 'float'>), (4.0000000000000004e-11, <class 'float'>), (nan, <class 'float'>)]\n",
      "[(nan, <class 'float'>), (nan, <class 'float'>), (4e-11, <class 'float'>), (4e-11, <class 'float'>), (nan, <class 'float'>)]\n"
     ]
    }
   ],
   "source": [
    "print([(i, type(i)) for i in sio.df[-cond].dropna(1, how='all').head()['treat_dc_field'].values])\n",
    "print([(i, type(i)) for i in generic.df[-cond].dropna(1, how='all').head()['treat_dc_field'].values])"
   ]
  },
  {
   "cell_type": "markdown",
   "metadata": {},
   "source": [
    "# issues with phantom sites/samples"
   ]
  },
  {
   "cell_type": "code",
   "execution_count": 1,
   "metadata": {},
   "outputs": [],
   "source": [
    "from pmagpy import new_builder as nb\n",
    "samps = nb.MagicDataFrame(\"/Users/nebula/Desktop/contributions/Shaar_2011/samples.txt\")"
   ]
  },
  {
   "cell_type": "code",
   "execution_count": null,
   "metadata": {},
   "outputs": [],
   "source": []
  },
  {
   "cell_type": "code",
   "execution_count": null,
   "metadata": {},
   "outputs": [],
   "source": []
  },
  {
   "cell_type": "code",
   "execution_count": null,
   "metadata": {},
   "outputs": [],
   "source": []
  },
  {
   "cell_type": "markdown",
   "metadata": {},
   "source": [
    "## update data model dynamically\n"
   ]
  },
  {
   "cell_type": "code",
   "execution_count": null,
   "metadata": {},
   "outputs": [],
   "source": [
    "from pmagpy import data_model3 as dm3"
   ]
  },
  {
   "cell_type": "code",
   "execution_count": null,
   "metadata": {},
   "outputs": [],
   "source": [
    "dm = dm3.DataModel()"
   ]
  },
  {
   "cell_type": "code",
   "execution_count": null,
   "metadata": {},
   "outputs": [],
   "source": [
    "\n",
    "dm.get_dm_online()"
   ]
  },
  {
   "cell_type": "code",
   "execution_count": null,
   "metadata": {},
   "outputs": [],
   "source": []
  }
 ],
 "metadata": {
  "kernelspec": {
   "display_name": "Python 3",
   "language": "python",
   "name": "python3"
  },
  "language_info": {
   "codemirror_mode": {
    "name": "ipython",
    "version": 3
   },
   "file_extension": ".py",
   "mimetype": "text/x-python",
   "name": "python",
   "nbconvert_exporter": "python",
   "pygments_lexer": "ipython3",
   "version": "3.6.4"
  }
 },
 "nbformat": 4,
 "nbformat_minor": 2
}
