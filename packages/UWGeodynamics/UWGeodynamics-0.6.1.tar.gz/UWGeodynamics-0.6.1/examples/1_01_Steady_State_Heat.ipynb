{
 "cells": [
  {
   "cell_type": "markdown",
   "metadata": {},
   "source": [
    "Steady state heat equation\n",
    "======\n",
    "\n",
    "This notebook will setup and solve the steady state heat equation:\n",
    "\n",
    "\\\\[\n",
    "\\nabla(k\\nabla)T = h\n",
    "\\\\]\n",
    "\n",
    "where $k$ is the diffusivity, T the temperature field and $h$ the source term.\n",
    "\n",
    "**Keywords:** initial conditions, boundary conditions, heat equation"
   ]
  },
  {
   "cell_type": "code",
   "execution_count": 19,
   "metadata": {},
   "outputs": [],
   "source": [
    "import UWGeodynamics as GEO"
   ]
  },
  {
   "cell_type": "markdown",
   "metadata": {},
   "source": [
    "Setup parameters\n",
    "-----"
   ]
  },
  {
   "cell_type": "code",
   "execution_count": 20,
   "metadata": {},
   "outputs": [],
   "source": [
    "u = GEO.UnitRegistry"
   ]
  },
  {
   "cell_type": "code",
   "execution_count": 21,
   "metadata": {},
   "outputs": [],
   "source": [
    "model_length = 20. * u.centimeter\n",
    "model_height = 10. * u.centimeter\n",
    "top_Temp = 273.15 * u.degK\n",
    "base_Temp = 1603.15 * u.degK\n",
    "\n",
    "KL = model_height\n",
    "KT = (base_Temp - top_Temp)\n",
    "\n",
    "GEO.scaling_coefficients[\"[length]\"] = KL\n",
    "GEO.scaling_coefficients[\"[temperature]\"]= KT"
   ]
  },
  {
   "cell_type": "markdown",
   "metadata": {},
   "source": [
    "Create mesh and variables\n",
    "------"
   ]
  },
  {
   "cell_type": "code",
   "execution_count": 8,
   "metadata": {},
   "outputs": [],
   "source": [
    "Model = GEO.Model(elementRes=(16, 8), \n",
    "                  minCoord=(0. * u.centimeter, 0. * u.centimeter), \n",
    "                  maxCoord=(20. * u.centimeter, 10. * u.centimeter))"
   ]
  },
  {
   "cell_type": "code",
   "execution_count": 9,
   "metadata": {},
   "outputs": [
    {
     "data": {
      "text/plain": [
       "<underworld.conditions._conditions.DirichletCondition at 0x7fc17b11f8d0>"
      ]
     },
     "execution_count": 9,
     "metadata": {},
     "output_type": "execute_result"
    }
   ],
   "source": [
    "Model.set_temperatureBCs(top=273.15 * u.degK, bottom=1603.15 * u.degK)\n"
   ]
  },
  {
   "cell_type": "code",
   "execution_count": 18,
   "metadata": {},
   "outputs": [
    {
     "data": {
      "text/html": [
       "<img src='data:image/png;base64,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'>"
      ],
      "text/plain": [
       "<IPython.core.display.HTML object>"
      ]
     },
     "metadata": {},
     "output_type": "display_data"
    }
   ],
   "source": [
    "Fig = Model.plot.temperature()"
   ]
  },
  {
   "cell_type": "markdown",
   "metadata": {},
   "source": [
    "Heat Equation System setup & solve\n",
    "-----\n",
    "\n",
    "Temperature field, diffusivity and boundary conditions are passed to the SteadyStateHeat system function."
   ]
  },
  {
   "cell_type": "code",
   "execution_count": 11,
   "metadata": {},
   "outputs": [],
   "source": [
    "Model.diffusivity = 1.0 * u.centimetre**2 / u.hour\n",
    "Model.radiogenicHeatProd = 0.0 * u.microwatt"
   ]
  },
  {
   "cell_type": "code",
   "execution_count": 12,
   "metadata": {},
   "outputs": [
    {
     "data": {
      "text/plain": [
       "<underworld.mesh._meshvariable.MeshVariable at 0x7fc17587f190>"
      ]
     },
     "execution_count": 12,
     "metadata": {},
     "output_type": "execute_result"
    }
   ],
   "source": [
    "Model.solve_temperature_steady_state()"
   ]
  },
  {
   "cell_type": "code",
   "execution_count": 13,
   "metadata": {},
   "outputs": [
    {
     "data": {
      "text/html": [
       "<img src='data:image/png;base64,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'>"
      ],
      "text/plain": [
       "<IPython.core.display.HTML object>"
      ]
     },
     "metadata": {},
     "output_type": "display_data"
    }
   ],
   "source": [
    "Fig = Model.plot.temperature()"
   ]
  }
 ],
 "metadata": {
  "kernelspec": {
   "display_name": "Python 2",
   "language": "python",
   "name": "python2"
  },
  "language_info": {
   "codemirror_mode": {
    "name": "ipython",
    "version": 2
   },
   "file_extension": ".py",
   "mimetype": "text/x-python",
   "name": "python",
   "nbconvert_exporter": "python",
   "pygments_lexer": "ipython2",
   "version": "2.7.13"
  }
 },
 "nbformat": 4,
 "nbformat_minor": 1
}
