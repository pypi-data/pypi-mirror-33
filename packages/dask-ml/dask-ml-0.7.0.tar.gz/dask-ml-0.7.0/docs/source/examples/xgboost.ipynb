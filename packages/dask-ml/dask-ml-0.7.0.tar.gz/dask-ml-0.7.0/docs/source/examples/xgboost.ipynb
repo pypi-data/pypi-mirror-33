{
 "cells": [
  {
   "cell_type": "markdown",
   "metadata": {},
   "source": [
    "# Dask and XGBoost"
   ]
  },
  {
   "cell_type": "markdown",
   "metadata": {},
   "source": [
    "<img src=\"http://dask.readthedocs.io/en/latest/_images/dask_horizontal.svg\" align=\"left\" width=\"30%\" alt=\"Dask logo\">\n",
    "\n",
    "<img src=\"https://raw.githubusercontent.com/dmlc/dmlc.github.io/master/img/logo-m/xgboost.png\" align=\"left\" width=\"25%\" alt=\"Dask logo\">"
   ]
  },
  {
   "cell_type": "code",
   "execution_count": 1,
   "metadata": {
    "collapsed": true,
    "nbsphinx": "hidden"
   },
   "outputs": [],
   "source": [
    "%matplotlib inline"
   ]
  },
  {
   "cell_type": "markdown",
   "metadata": {},
   "source": [
    "The `dask-xgboost` library provides a small wrapper around `dask-xgboost` for passing dask objects to `xgboost`.\n",
    "\n",
    "As usual, we can create or attach to our cluster by creating a `Client`"
   ]
  },
  {
   "cell_type": "code",
   "execution_count": 2,
   "metadata": {
    "collapsed": true
   },
   "outputs": [],
   "source": [
    "import os\n",
    "from dask import compute, persist\n",
    "from dask.distributed import Client, progress\n",
    "\n",
    "client = Client(os.environ.get(\"DISTRIBUTED_ADDRESS\"))  # connect to cluster "
   ]
  },
  {
   "cell_type": "markdown",
   "metadata": {},
   "source": [
    "We'll work through an example using the airlines dataset.\n",
    "For a recorded screen cast, see [here](https://www.youtube.com/watch?v=Cc4E-PdDSro).\n",
    "Our task is to pick whether or not a flight was delayed for more than 15 minutes.\n",
    "\n",
    "First, let's load the data."
   ]
  },
  {
   "cell_type": "code",
   "execution_count": 3,
   "metadata": {},
   "outputs": [
    {
     "data": {
      "application/vnd.jupyter.widget-view+json": {
       "model_id": "2a0ea81a3aee4f49979fff791019ddf4"
      }
     },
     "metadata": {},
     "output_type": "display_data"
    }
   ],
   "source": [
    "import dask.dataframe as dd\n",
    "\n",
    "# Subset of the columns to use\n",
    "cols = ['Year', 'Month', 'DayOfWeek', 'Distance',\n",
    "        'DepDelay', 'CRSDepTime', 'UniqueCarrier', 'Origin', 'Dest']\n",
    "\n",
    "# Create the dataframe\n",
    "df = dd.read_csv('s3://dask-data/airline-data/2006.csv', usecols=cols,\n",
    "                 storage_options={'anon': True})\n",
    "\n",
    "frac = 0.01\n",
    "df = df.sample(frac=frac) # we blow out ram otherwise\n",
    "\n",
    "is_delayed = (df.DepDelay.fillna(16) > 15)\n",
    "\n",
    "df['CRSDepTime'] = df['CRSDepTime'].clip(upper=2399)\n",
    "del df['DepDelay']\n",
    "\n",
    "df, is_delayed = persist(df, is_delayed)\n",
    "progress(df, is_delayed)"
   ]
  },
  {
   "cell_type": "code",
   "execution_count": 6,
   "metadata": {},
   "outputs": [
    {
     "data": {
      "text/html": [
       "<div>\n",
       "<style>\n",
       "    .dataframe thead tr:only-child th {\n",
       "        text-align: right;\n",
       "    }\n",
       "\n",
       "    .dataframe thead th {\n",
       "        text-align: left;\n",
       "    }\n",
       "\n",
       "    .dataframe tbody tr th {\n",
       "        vertical-align: top;\n",
       "    }\n",
       "</style>\n",
       "<table border=\"1\" class=\"dataframe\">\n",
       "  <thead>\n",
       "    <tr style=\"text-align: right;\">\n",
       "      <th></th>\n",
       "      <th>Year</th>\n",
       "      <th>Month</th>\n",
       "      <th>DayOfWeek</th>\n",
       "      <th>CRSDepTime</th>\n",
       "      <th>UniqueCarrier</th>\n",
       "      <th>Origin</th>\n",
       "      <th>Dest</th>\n",
       "      <th>Distance</th>\n",
       "    </tr>\n",
       "  </thead>\n",
       "  <tbody>\n",
       "    <tr>\n",
       "      <th>156561</th>\n",
       "      <td>2006</td>\n",
       "      <td>1</td>\n",
       "      <td>2</td>\n",
       "      <td>1440</td>\n",
       "      <td>OH</td>\n",
       "      <td>CVG</td>\n",
       "      <td>MHT</td>\n",
       "      <td>741</td>\n",
       "    </tr>\n",
       "    <tr>\n",
       "      <th>359225</th>\n",
       "      <td>2006</td>\n",
       "      <td>1</td>\n",
       "      <td>5</td>\n",
       "      <td>1241</td>\n",
       "      <td>MQ</td>\n",
       "      <td>DFW</td>\n",
       "      <td>CLE</td>\n",
       "      <td>1021</td>\n",
       "    </tr>\n",
       "    <tr>\n",
       "      <th>414374</th>\n",
       "      <td>2006</td>\n",
       "      <td>1</td>\n",
       "      <td>6</td>\n",
       "      <td>1031</td>\n",
       "      <td>NW</td>\n",
       "      <td>MBS</td>\n",
       "      <td>DTW</td>\n",
       "      <td>98</td>\n",
       "    </tr>\n",
       "    <tr>\n",
       "      <th>39002</th>\n",
       "      <td>2006</td>\n",
       "      <td>1</td>\n",
       "      <td>3</td>\n",
       "      <td>725</td>\n",
       "      <td>WN</td>\n",
       "      <td>CRP</td>\n",
       "      <td>HOU</td>\n",
       "      <td>187</td>\n",
       "    </tr>\n",
       "    <tr>\n",
       "      <th>488494</th>\n",
       "      <td>2006</td>\n",
       "      <td>1</td>\n",
       "      <td>3</td>\n",
       "      <td>1259</td>\n",
       "      <td>AA</td>\n",
       "      <td>DFW</td>\n",
       "      <td>BDL</td>\n",
       "      <td>1471</td>\n",
       "    </tr>\n",
       "  </tbody>\n",
       "</table>\n",
       "</div>"
      ],
      "text/plain": [
       "        Year  Month  DayOfWeek  CRSDepTime UniqueCarrier Origin Dest  Distance\n",
       "156561  2006      1          2        1440            OH    CVG  MHT       741\n",
       "359225  2006      1          5        1241            MQ    DFW  CLE      1021\n",
       "414374  2006      1          6        1031            NW    MBS  DTW        98\n",
       "39002   2006      1          3         725            WN    CRP  HOU       187\n",
       "488494  2006      1          3        1259            AA    DFW  BDL      1471"
      ]
     },
     "execution_count": 6,
     "metadata": {},
     "output_type": "execute_result"
    }
   ],
   "source": [
    "df.head()"
   ]
  },
  {
   "cell_type": "code",
   "execution_count": 7,
   "metadata": {},
   "outputs": [
    {
     "data": {
      "text/plain": [
       "156561    False\n",
       "359225    False\n",
       "414374    False\n",
       "39002     False\n",
       "488494    False\n",
       "Name: DepDelay, dtype: bool"
      ]
     },
     "execution_count": 7,
     "metadata": {},
     "output_type": "execute_result"
    }
   ],
   "source": [
    "is_delayed.head()"
   ]
  },
  {
   "cell_type": "code",
   "execution_count": 8,
   "metadata": {
    "collapsed": true
   },
   "outputs": [],
   "source": [
    "df2 = dd.get_dummies(df.categorize()).persist()"
   ]
  },
  {
   "cell_type": "markdown",
   "metadata": {},
   "source": [
    "## Split and Train\n",
    "\n",
    "We'll split the original dataset into train and test sets.\n",
    "The model will be fit on `data_train` and evaluated on `data_test`."
   ]
  },
  {
   "cell_type": "code",
   "execution_count": 9,
   "metadata": {
    "collapsed": true
   },
   "outputs": [],
   "source": [
    "data_train, data_test = df2.random_split([0.9, 0.1], \n",
    "                                         random_state=1234)\n",
    "labels_train, labels_test = is_delayed.random_split([0.9, 0.1], \n",
    "                                                    random_state=1234)"
   ]
  },
  {
   "cell_type": "markdown",
   "metadata": {},
   "source": [
    "Now we can fit the model. This is exactly like normal, except you'll import `dask_xgboost`.\n",
    "It will take care of handing the data off to the distributed `xgboost` processes, and from there everything proceeds as normal."
   ]
  },
  {
   "cell_type": "code",
   "execution_count": 10,
   "metadata": {},
   "outputs": [
    {
     "name": "stdout",
     "output_type": "stream",
     "text": [
      "CPU times: user 962 ms, sys: 569 ms, total: 1.53 s\n",
      "Wall time: 17.2 s\n"
     ]
    }
   ],
   "source": [
    "%%time\n",
    "import dask_xgboost as dxgb\n",
    "import xgboost as xgb\n",
    "\n",
    "params = {'objective': 'binary:logistic', 'nround': 1000, \n",
    "          'max_depth': 16, 'eta': 0.01, 'subsample': 0.5, \n",
    "          'min_child_weight': 1}\n",
    "\n",
    "bst = dxgb.train(client, params, data_train, labels_train)\n",
    "bst"
   ]
  },
  {
   "cell_type": "markdown",
   "metadata": {},
   "source": [
    "The `bst` object is just a reguler `xgboost.Booster`, so all the familar methods are available."
   ]
  },
  {
   "cell_type": "code",
   "execution_count": 11,
   "metadata": {
    "collapsed": true
   },
   "outputs": [],
   "source": [
    "import matplotlib.pyplot as plt"
   ]
  },
  {
   "cell_type": "code",
   "execution_count": 12,
   "metadata": {},
   "outputs": [
    {
     "data": {
      "image/png": "[encoded data removed]",
      "text/plain": [
       "<matplotlib.figure.Figure at 0x11ec3ae80>"
      ]
     },
     "metadata": {},
     "output_type": "display_data"
    }
   ],
   "source": [
    "fig, ax = plt.subplots(figsize=(12, 8))\n",
    "\n",
    "ax = xgb.plot_importance(bst, ax=ax, height=0.8, max_num_features=20)\n",
    "ax.grid(\"off\", axis=\"y\")"
   ]
  },
  {
   "cell_type": "markdown",
   "metadata": {},
   "source": [
    "Let's get the predictions. The is the same as usual, except we're using `dxgb`."
   ]
  },
  {
   "cell_type": "code",
   "execution_count": 13,
   "metadata": {},
   "outputs": [
    {
     "data": {
      "text/plain": [
       "Dask Series Structure:\n",
       "npartitions=11\n",
       "None    float32\n",
       "None        ...\n",
       "         ...   \n",
       "None        ...\n",
       "None        ...\n",
       "Name: predictions, dtype: float32\n",
       "Dask Name: _predict_part, 11 tasks"
      ]
     },
     "execution_count": 13,
     "metadata": {},
     "output_type": "execute_result"
    }
   ],
   "source": [
    "predictions = dxgb.predict(client, bst, data_test)\n",
    "predictions = client.persist(predictions)\n",
    "predictions"
   ]
  },
  {
   "cell_type": "markdown",
   "metadata": {},
   "source": [
    "The `predictions` object is a `dask.Series`, so it can be used in place of a numpy array in most places."
   ]
  },
  {
   "cell_type": "code",
   "execution_count": 14,
   "metadata": {
    "collapsed": true
   },
   "outputs": [],
   "source": [
    "from sklearn.metrics import roc_curve, auc"
   ]
  },
  {
   "cell_type": "code",
   "execution_count": 15,
   "metadata": {},
   "outputs": [
    {
     "data": {
      "image/png": "[encoded data removed]",
      "text/plain": [
       "<matplotlib.figure.Figure at 0x11fdc3a20>"
      ]
     },
     "metadata": {},
     "output_type": "display_data"
    }
   ],
   "source": [
    "fig, ax = plt.subplots(figsize=(8, 8))\n",
    "fpr, tpr, _ = roc_curve(labels_test, predictions)\n",
    "ax.plot(fpr, tpr, lw=3,\n",
    "        label='ROC Curve (ares = {:.2f})'.format(auc(fpr, tpr)))\n",
    "ax.plot([0, 1], [0, 1], 'k--', lw=2)\n",
    "\n",
    "ax.set(\n",
    "    xlim=(0, 1),\n",
    "    ylim=(0, 1),\n",
    "    title=\"ROC Curve\",\n",
    "    xlabel=\"False Positive Rate\",\n",
    "    ylabel=\"True Positive Rate\",\n",
    ")\n",
    "ax.legend();"
   ]
  }
 ],
 "metadata": {
  "kernelspec": {
   "display_name": "Python 3",
   "language": "python",
   "name": "python3"
  },
  "language_info": {
   "codemirror_mode": {
    "name": "ipython",
    "version": 3
   },
   "file_extension": ".py",
   "mimetype": "text/x-python",
   "name": "python",
   "nbconvert_exporter": "python",
   "pygments_lexer": "ipython3",
   "version": "3.6.1"
  }
 },
 "nbformat": 4,
 "nbformat_minor": 2
}
