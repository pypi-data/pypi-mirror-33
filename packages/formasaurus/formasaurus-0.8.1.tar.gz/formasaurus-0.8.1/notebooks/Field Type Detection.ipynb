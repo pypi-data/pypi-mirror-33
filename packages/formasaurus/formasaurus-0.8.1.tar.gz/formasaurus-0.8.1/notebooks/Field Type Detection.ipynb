{
 "cells": [
  {
   "cell_type": "code",
   "execution_count": 1,
   "metadata": {
    "collapsed": false
   },
   "outputs": [],
   "source": [
    "%matplotlib inline\n",
    "import matplotlib.pyplot as plt\n",
    "plt.style.use('ggplot')"
   ]
  },
  {
   "cell_type": "code",
   "execution_count": 2,
   "metadata": {
    "collapsed": false
   },
   "outputs": [],
   "source": [
    "import re\n",
    "from itertools import chain\n",
    "from collections import Counter\n",
    "\n",
    "import numpy as np\n",
    "import scipy.stats\n",
    "from sklearn.metrics import confusion_matrix, accuracy_score, classification_report\n",
    "from sklearn.grid_search import RandomizedSearchCV\n",
    "from sklearn_crfsuite.metrics import flat_classification_report, sequence_accuracy_score\n",
    "from sklearn_crfsuite import scorers\n",
    "from sklearn_crfsuite import CRF\n",
    "\n",
    "from formasaurus.annotation import get_annotation_folds\n",
    "from formasaurus.storage import Storage\n",
    "from formasaurus import formtype_model, fieldtype_model"
   ]
  },
  {
   "cell_type": "code",
   "execution_count": 3,
   "metadata": {
    "collapsed": false
   },
   "outputs": [],
   "source": [
    "storage = Storage('../formasaurus/data/')\n",
    "index = storage.get_index()\n",
    "field_schema = storage.get_field_schema()\n",
    "form_schema = storage.get_form_schema()"
   ]
  },
  {
   "cell_type": "markdown",
   "metadata": {},
   "source": [
    "Many field types have only a few examples in annotation data, so here we're considering only some of the field types and use more coarse grained classes. Simplification rules are defined in config.json file.\n",
    "\n",
    "For easier debugging long class names are used by default."
   ]
  },
  {
   "cell_type": "code",
   "execution_count": 4,
   "metadata": {
    "collapsed": false
   },
   "outputs": [
    {
     "data": {
      "text/plain": [
       "(1192, 1244)"
      ]
     },
     "execution_count": 4,
     "metadata": {},
     "output_type": "execute_result"
    }
   ],
   "source": [
    "_ann_iter = storage.iter_annotations(\n",
    "    index=index, \n",
    "    simplify_form_types=True,\n",
    "    simplify_field_types=True\n",
    ")\n",
    "\n",
    "annotations_all = list(a for a in _ann_iter if True)\n",
    "annotations_complete = [a for a in annotations_all if a.fields_annotated]\n",
    "len(annotations_complete), len(annotations_all)"
   ]
  },
  {
   "cell_type": "markdown",
   "metadata": {},
   "source": [
    "The model is two-stage:\n",
    "\n",
    "1. First, we train Formasaurus form type detector.\n",
    "2. Second, we use form type detector results to improve quality of field type detection.\n",
    "\n",
    "We have form types available directly in training data, but in reality form type detecor will make mistakes. It is better for field type detector to account for this and not rely on form types blindly. So it should be trained on input where form type detection quality is roughly the same it'll be in real life. \n",
    "\n",
    "To get 'realistic' form type labels we split data into 10 folds, and then for each fold we predict its labels using form type detector trained on the rest 9 folds."
   ]
  },
  {
   "cell_type": "code",
   "execution_count": 5,
   "metadata": {
    "collapsed": false
   },
   "outputs": [
    {
     "name": "stdout",
     "output_type": "stream",
     "text": [
      "CPU times: user 12.6 s, sys: 61.5 ms, total: 12.7 s\n",
      "Wall time: 12.7 s\n"
     ]
    }
   ],
   "source": [
    "%%time\n",
    "form_types_realistic = formtype_model.get_realistic_form_labels(annotations_complete, n_folds=10)"
   ]
  },
  {
   "cell_type": "code",
   "execution_count": 6,
   "metadata": {
    "collapsed": false
   },
   "outputs": [
    {
     "data": {
      "text/plain": [
       "'login'"
      ]
     },
     "execution_count": 6,
     "metadata": {},
     "output_type": "execute_result"
    }
   ],
   "source": [
    "form_types_realistic[100]"
   ]
  },
  {
   "cell_type": "markdown",
   "metadata": {},
   "source": [
    "Check quality - it should be around 0.9:"
   ]
  },
  {
   "cell_type": "code",
   "execution_count": 7,
   "metadata": {
    "collapsed": false
   },
   "outputs": [
    {
     "data": {
      "text/plain": [
       "0.8901006711409396"
      ]
     },
     "execution_count": 7,
     "metadata": {},
     "output_type": "execute_result"
    }
   ],
   "source": [
    "form_types_correct = np.asarray([a.type_full for a in annotations_complete])\n",
    "accuracy_score(form_types_correct, form_types_realistic)"
   ]
  },
  {
   "cell_type": "markdown",
   "metadata": {},
   "source": [
    "Prepare training/testing data for field type detection. We use 1/4 (25%) of data for testing."
   ]
  },
  {
   "cell_type": "code",
   "execution_count": 8,
   "metadata": {
    "collapsed": false
   },
   "outputs": [
    {
     "name": "stdout",
     "output_type": "stream",
     "text": [
      "894 298\n",
      "CPU times: user 1.72 s, sys: 18.3 ms, total: 1.74 s\n",
      "Wall time: 1.75 s\n"
     ]
    }
   ],
   "source": [
    "%%time\n",
    "def get_annotation_train_test_indices(annotations, n_folds=4):\n",
    "    \"\"\"\n",
    "    Split annotations into train and test parts, return train and test indices.\n",
    "    The size of test part is approximately ``len(annotations)/n_folds``.\n",
    "    it is guaranteed forms from the same website can't be both\n",
    "    in train and test parts.\n",
    "    \"\"\"\n",
    "    for idx_train, idx_test in get_annotation_folds(annotations, n_folds):\n",
    "        break\n",
    "    return idx_train, idx_test\n",
    "\n",
    "def select_by_index(arr, index):\n",
    "    \"\"\"\n",
    "    Like numpy indexing, but for lists. This is for cases\n",
    "    conversion to numpy array is problematic.\n",
    "\n",
    "    >>> select_by_index(['a', 'b', 'c', 'd'], [0, 3])\n",
    "    ['a', 'd']\n",
    "    \"\"\"\n",
    "    return [arr[i] for i in index]\n",
    "\n",
    "idx_train, idx_test = get_annotation_train_test_indices(annotations_complete, 4)\n",
    "\n",
    "annotations_train = select_by_index(annotations_complete, idx_train)\n",
    "annotations_test = select_by_index(annotations_complete, idx_test)\n",
    "\n",
    "# form_types_train = form_types_realistic[idx_train]\n",
    "form_types_train = form_types_correct[idx_train]\n",
    "form_types_test = form_types_realistic[idx_test]\n",
    "\n",
    "X_train, y_train = fieldtype_model.get_Xy(annotations_train, form_types_train, full_type_names=True)\n",
    "X_test, y_test = fieldtype_model.get_Xy(annotations_test, form_types_test, full_type_names=True)\n",
    "X, y = X_train + X_test, y_train + y_test\n",
    "print(len(X_train), len(X_test))"
   ]
  },
  {
   "cell_type": "code",
   "execution_count": 9,
   "metadata": {
    "collapsed": false,
    "scrolled": true
   },
   "outputs": [],
   "source": [
    "#[(idx, yseq) for idx, yseq in enumerate(y_train) if 'GENDER' in yseq]"
   ]
  },
  {
   "cell_type": "code",
   "execution_count": 10,
   "metadata": {
    "collapsed": false,
    "scrolled": true
   },
   "outputs": [],
   "source": [
    "# X_train[10]"
   ]
  },
  {
   "cell_type": "markdown",
   "metadata": {},
   "source": [
    "Find regularization parameters for field type detector using randomized search. \n",
    "We're optimizing for weighted average of F1 metric. Only training data is used; 5-fold cross-validation is performed at each iteration.\n",
    "\n",
    "Note that this may take quite a lot of CPU time and RAM."
   ]
  },
  {
   "cell_type": "code",
   "execution_count": 11,
   "metadata": {
    "collapsed": false,
    "scrolled": true
   },
   "outputs": [
    {
     "name": "stdout",
     "output_type": "stream",
     "text": [
      "Fitting 5 folds for each of 50 candidates, totalling 250 fits\n"
     ]
    },
    {
     "name": "stderr",
     "output_type": "stream",
     "text": [
      "[Parallel(n_jobs=-1)]: Done  34 tasks      | elapsed:   56.0s\n",
      "[Parallel(n_jobs=-1)]: Done 184 tasks      | elapsed:  4.1min\n",
      "[Parallel(n_jobs=-1)]: Done 250 out of 250 | elapsed:  5.5min finished\n"
     ]
    },
    {
     "name": "stdout",
     "output_type": "stream",
     "text": [
      "CPU times: user 52.1 s, sys: 2.03 s, total: 54.1 s\n",
      "Wall time: 5min 35s\n"
     ]
    }
   ],
   "source": [
    "%%time\n",
    "params_space = {\n",
    "    'c1': scipy.stats.expon(scale=0.5),\n",
    "    'c2': scipy.stats.expon(scale=0.05),\n",
    "#     'max_iterations': [25, 30, 35, 100]\n",
    "#     'min_freq': [None, 2],\n",
    "}\n",
    "\n",
    "crf = CRF(all_possible_transitions=True, max_iterations=100)\n",
    "rs = RandomizedSearchCV(crf, params_space, \n",
    "    cv=get_annotation_folds(annotations_train, 5), \n",
    "    verbose=1, \n",
    "    n_jobs=-1, \n",
    "    n_iter=50,\n",
    "    iid=False, \n",
    "    scoring=scorers.sequence_accuracy #fieldtype_model.scorer\n",
    ")\n",
    "rs.fit(X_train, y_train)"
   ]
  },
  {
   "cell_type": "code",
   "execution_count": 12,
   "metadata": {
    "collapsed": false
   },
   "outputs": [
    {
     "name": "stdout",
     "output_type": "stream",
     "text": [
      "best params: {'c1': 0.12763081501711115, 'c2': 0.022130453058798433}\n",
      "best score: 0.7607055426526896\n",
      "model size: 0.59M\n"
     ]
    }
   ],
   "source": [
    "crf = rs.best_estimator_\n",
    "print('best params:', rs.best_params_)\n",
    "print('best score:', rs.best_score_)\n",
    "print(\"model size: {:0.2f}M\".format(crf.size_ / 1000000))"
   ]
  },
  {
   "cell_type": "code",
   "execution_count": 13,
   "metadata": {
    "collapsed": false
   },
   "outputs": [
    {
     "data": {
      "text/plain": [
       "({'c1': 0.12763081501711115, 'c2': 0.022130453058798433}, 0.81810490693739424)"
      ]
     },
     "execution_count": 13,
     "metadata": {},
     "output_type": "execute_result"
    }
   ],
   "source": [
    "rs.best_params_, crf.score(X_test, y_test)"
   ]
  },
  {
   "cell_type": "code",
   "execution_count": 14,
   "metadata": {
    "collapsed": false
   },
   "outputs": [
    {
     "name": "stdout",
     "output_type": "stream",
     "text": [
      "Dark blue => 0.733, dark red => 0.761\n"
     ]
    },
    {
     "data": {
      "image/png": "[encoded data removed]",
      "text/plain": [
       "<matplotlib.figure.Figure at 0x10e41b358>"
      ]
     },
     "metadata": {},
     "output_type": "display_data"
    }
   ],
   "source": [
    "_x = [s.parameters['c1'] for s in rs.grid_scores_]\n",
    "_y = [s.parameters['c2'] for s in rs.grid_scores_]\n",
    "_c = [s.mean_validation_score for s in rs.grid_scores_]\n",
    "_s = [200000*s.cv_validation_scores.std()**2 for s in rs.grid_scores_]\n",
    "\n",
    "fig = plt.figure()\n",
    "fig.set_size_inches(14, 14)\n",
    "ax = plt.gca()\n",
    "ax.set_yscale('log')\n",
    "ax.set_xscale('log')\n",
    "ax.set_xlabel('C1')\n",
    "ax.set_ylabel('C2')\n",
    "ax.set_title(\"Randomized Hyperparameter Search Results (min={:0.3}, max={:0.3})\".format(\n",
    "    min(_c), max(_c)\n",
    "))\n",
    "\n",
    "ax.scatter(_x, _y, c=_c, s=_s, alpha=0.9, edgecolors=[0,0,0])\n",
    "\n",
    "print(\"Dark blue => {:0.3}, dark red => {:0.3}\".format(min(_c), max(_c)))"
   ]
  },
  {
   "cell_type": "code",
   "execution_count": 15,
   "metadata": {
    "collapsed": false
   },
   "outputs": [
    {
     "data": {
      "text/plain": [
       "0.81810490693739424"
      ]
     },
     "execution_count": 15,
     "metadata": {},
     "output_type": "execute_result"
    }
   ],
   "source": [
    "# %%time\n",
    "crf = rs.best_estimator_\n",
    "# crf = CRF(c1=0.358, c2=0.161, verbose=False, max_iterations=200)\n",
    "# crf = CRF(c1=0.217, c2=0.05, verbose=False, max_iterations=30)\n",
    "# crf = CRF(c1=0.643, c2=0.198, verbose=False, max_iterations=200)\n",
    "# crf = CRF(c1=0.358, c2=0.161, verbose=False, max_iterations=200)\n",
    "crf.fit(X_train, y_train)\n",
    "crf.score(X_test, y_test)"
   ]
  },
  {
   "cell_type": "code",
   "execution_count": 16,
   "metadata": {
    "collapsed": false
   },
   "outputs": [],
   "source": [
    "#crf.fit(X, y)"
   ]
  },
  {
   "cell_type": "code",
   "execution_count": 17,
   "metadata": {
    "collapsed": false
   },
   "outputs": [
    {
     "name": "stdout",
     "output_type": "stream",
     "text": [
      "                              precision    recall  f1-score   support\n",
      "\n",
      "                search query      0.900     0.964     0.931        84\n",
      "                       email      0.921     0.952     0.936       147\n",
      "                    password      1.000     0.988     0.994        83\n",
      "            product quantity      1.000     0.643     0.783        14\n",
      "               submit button      1.000     0.987     0.993        77\n",
      "                    username      0.717     0.884     0.792        43\n",
      "       password confirmation      1.000     1.000     1.000        27\n",
      " receive emails confirmation      0.625     0.192     0.294        26\n",
      "                  first name      0.947     0.783     0.857        23\n",
      "                   last name      1.000     0.857     0.923        21\n",
      "           organization name      1.000     0.667     0.800         3\n",
      "                     address      0.750     0.450     0.563        20\n",
      "                        city      0.875     0.583     0.700        12\n",
      "                       state      1.000     0.750     0.857         4\n",
      "                 postal code      1.000     0.667     0.800        21\n",
      "                     country      1.000     0.750     0.857        12\n",
      "                       phone      0.941     0.941     0.941        17\n",
      "                         fax      1.000     1.000     1.000         1\n",
      "            TOS confirmation      0.769     0.769     0.769        13\n",
      "                comment text      0.872     1.000     0.932        34\n",
      "                     captcha      0.833     0.714     0.769        21\n",
      "        remember me checkbox      0.968     1.000     0.984        30\n",
      "           username or email      1.000     0.500     0.667         8\n",
      "                       other      0.449     0.871     0.592       116\n",
      "             other read-only      1.000     0.333     0.500         9\n",
      "                style select      1.000     1.000     1.000         3\n",
      "          email confirmation      1.000     0.778     0.875         9\n",
      "                   time zone      0.000     0.000     0.000         4\n",
      "                         DST      0.000     0.000     0.000         2\n",
      "                      gender      1.000     0.704     0.826        27\n",
      "               about me text      0.000     0.000     0.000         1\n",
      "          reset/clear button      1.000     1.000     1.000         3\n",
      "search category / refinement      0.946     0.914     0.930       116\n",
      "                   full name      0.633     0.731     0.679        26\n",
      "           security question      0.000     0.000     0.000         0\n",
      " answer to security question      0.000     0.000     0.000         0\n",
      "    comment title or subject      0.658     0.431     0.521        58\n",
      "                   full date      1.000     0.556     0.714         9\n",
      "              sorting option      1.000     0.750     0.857         4\n",
      "                        year      0.900     0.900     0.900        10\n",
      "                         url      0.667     0.333     0.444         6\n",
      "               cancel button      1.000     1.000     1.000         1\n",
      "                 middle name      0.000     0.000     0.000         2\n",
      "                         day      1.000     0.857     0.923         7\n",
      "                       month      1.000     0.857     0.923         7\n",
      "                    honeypot      0.000     0.000     0.000        11\n",
      "                      OpenID      1.000     1.000     1.000         1\n",
      "                other number      0.000     0.000     0.000         9\n",
      "\n",
      "                 avg / total      0.836     0.818     0.810      1182\n",
      "\n"
     ]
    },
    {
     "name": "stderr",
     "output_type": "stream",
     "text": [
      "/Users/kmike/envs/py3-splash/lib/python3.4/site-packages/sklearn/metrics/classification.py:1074: UndefinedMetricWarning: Precision and F-score are ill-defined and being set to 0.0 in labels with no predicted samples.\n",
      "  'precision', 'predicted', average, warn_for)\n",
      "/Users/kmike/envs/py3-splash/lib/python3.4/site-packages/sklearn/metrics/classification.py:1076: UndefinedMetricWarning: Recall and F-score are ill-defined and being set to 0.0 in labels with no true samples.\n",
      "  'recall', 'true', average, warn_for)\n"
     ]
    }
   ],
   "source": [
    "y_pred = crf.predict(X_test)\n",
    "print(flat_classification_report(\n",
    "    y_test, y_pred, digits=3, labels=crf.classes_, target_names=crf.classes_\n",
    "))"
   ]
  },
  {
   "cell_type": "code",
   "execution_count": 18,
   "metadata": {
    "collapsed": false
   },
   "outputs": [],
   "source": [
    "# import pandas as pd\n",
    "# pd.options.display.max_rows = 50\n",
    "# pd.options.display.max_columns = 50\n",
    "# labels_short = [field_schema.types[name] for name in labels]\n",
    "\n",
    "# pd.DataFrame(confusion_matrix(y_true_flat, y_pred_flat, labels), index=labels_short, columns=labels_short)"
   ]
  },
  {
   "cell_type": "code",
   "execution_count": 19,
   "metadata": {
    "collapsed": false
   },
   "outputs": [
    {
     "name": "stdout",
     "output_type": "stream",
     "text": [
      "Top likely transitions:\n",
      "security question              -> answer to security question    4.970772\n",
      "first name                     -> last name                      4.608590\n",
      "month                          -> day                            4.525933\n",
      "password                       -> password confirmation          4.516606\n",
      "username                       -> password                       3.314564\n",
      "comment title or subject       -> comment text                   3.253280\n",
      "month                          -> year                           3.073022\n",
      "sorting option                 -> sorting option                 3.026889\n",
      "comment title or subject       -> comment title or subject       2.949091\n",
      "email                          -> email confirmation             2.749066\n",
      "other number                   -> other number                   2.732831\n",
      "phone                          -> fax                            2.579593\n",
      "postal code                    -> city                           2.517252\n",
      "address                        -> address                        2.440293\n",
      "day                            -> month                          2.427446\n",
      "last name                      -> first name                     2.401364\n",
      "full name                      -> phone                          2.365352\n",
      "city                           -> state                          2.357266\n",
      "phone                          -> phone                          2.331425\n",
      "password                       -> remember me checkbox           2.301212\n",
      "time zone                      -> DST                            2.187891\n",
      "last name                      -> organization name              1.982628\n",
      "username                       -> email                          1.972116\n",
      "other                          -> other                          1.955632\n",
      "year                           -> month                          1.878611\n",
      "full name                      -> email                          1.846992\n",
      "other                          -> product quantity               1.763074\n",
      "search category / refinement   -> search category / refinement   1.699602\n",
      "email                          -> phone                          1.690795\n",
      "gender                         -> gender                         1.673723\n",
      "username                       -> full name                      1.646752\n",
      "username or email              -> password                       1.631020\n",
      "email                          -> password                       1.630164\n",
      "full name                      -> year                           1.538741\n",
      "address                        -> other                          1.471955\n",
      "email                          -> comment text                   1.469469\n",
      "state                          -> postal code                    1.382607\n",
      "search query                   -> submit button                  1.300024\n",
      "TOS confirmation               -> TOS confirmation               1.273765\n",
      "DST                            -> receive emails confirmation    1.256696\n",
      "comment text                   -> captcha                        1.216428\n",
      "other read-only                -> full date                      1.196033\n",
      "city                           -> other                          1.181466\n",
      "country                        -> comment title or subject       1.181126\n",
      "phone                          -> city                           1.156636\n",
      "other                          -> organization name              1.139118\n",
      "search query                   -> search category / refinement   1.121842\n",
      "comment title or subject       -> full name                      1.115648\n",
      "first name                     -> middle name                    1.096866\n",
      "address                        -> city                           1.086294\n",
      "email                          -> submit button                  1.071472\n",
      "full name                      -> receive emails confirmation    1.070736\n",
      "captcha                        -> submit button                  1.045420\n",
      "submit button                  -> other number                   1.035321\n",
      "email                          -> username                       1.026152\n",
      "day                            -> year                           1.018252\n",
      "password confirmation          -> security question              0.986216\n",
      "full name                      -> about me text                  0.974656\n",
      "postal code                    -> other                          0.967932\n",
      "reset/clear button             -> cancel button                  0.950674\n",
      "comment text                   -> honeypot                       0.944859\n",
      "url                            -> comment text                   0.925595\n",
      "email                          -> url                            0.916171\n",
      "password                       -> submit button                  0.910496\n",
      "organization name              -> full name                      0.903427\n",
      "password confirmation          -> full name                      0.895567\n",
      "url                            -> other                          0.890422\n",
      "organization name              -> email                          0.845182\n",
      "postal code                    -> country                        0.827151\n",
      "other                          -> gender                         0.818193\n",
      "full name                      -> country                        0.803133\n",
      "comment text                   -> submit button                  0.799921\n",
      "state                          -> city                           0.799562\n",
      "country                        -> postal code                    0.796824\n",
      "email                          -> comment title or subject       0.794227\n",
      "remember me checkbox           -> reset/clear button             0.778353\n",
      "other                          -> full date                      0.767856\n",
      "phone                          -> email                          0.766691\n",
      "submit button                  -> honeypot                       0.766249\n",
      "other                          -> phone                          0.739892\n",
      "address                        -> TOS confirmation               0.708569\n",
      "captcha                        -> receive emails confirmation    0.686417\n",
      "receive emails confirmation    -> about me text                  0.679384\n",
      "url                            -> about me text                  0.677763\n",
      "other                          -> url                            0.651275\n",
      "city                           -> submit button                  0.649595\n",
      "year                           -> receive emails confirmation    0.647641\n",
      "email                          -> security question              0.632234\n",
      "phone                          -> comment text                   0.629580\n",
      "password confirmation          -> email                          0.625597\n",
      "TOS confirmation               -> cancel button                  0.623967\n",
      "about me text                  -> comment text                   0.617602\n",
      "address                        -> country                        0.598019\n",
      "gender                         -> about me text                  0.596117\n",
      "other                          -> captcha                        0.593939\n",
      "other                          -> first name                     0.575724\n",
      "email                          -> captcha                        0.560085\n",
      "comment text                   -> receive emails confirmation    0.540805\n",
      "organization name              -> url                            0.537153\n",
      "receive emails confirmation    -> receive emails confirmation    0.521217\n",
      "\n",
      "Top unlikely transitions:\n",
      "password                       -> other                          -0.741624\n",
      "other                          -> comment title or subject       -0.842461\n",
      "other                          -> city                           -0.849363\n",
      "password confirmation          -> other                          -0.903192\n",
      "comment text                   -> comment text                   -0.948209\n",
      "remember me checkbox           -> remember me checkbox           -1.702658\n",
      "password                       -> password                       -2.136753\n",
      "submit button                  -> submit button                  -2.253558\n",
      "TOS confirmation               -> other                          -2.564202\n",
      "email                          -> email                          -3.766672\n"
     ]
    }
   ],
   "source": [
    "from collections import Counter\n",
    "\n",
    "def print_transitions(trans_features):\n",
    "    for (label_from, label_to), weight in trans_features:\n",
    "        print(\"%-30s -> %-30s %0.6f\" % (label_from, label_to, weight))\n",
    "\n",
    "print(\"Top likely transitions:\")\n",
    "print_transitions(Counter(crf.transition_features_).most_common(100))\n",
    "\n",
    "print(\"\\nTop unlikely transitions:\")\n",
    "print_transitions(Counter(crf.transition_features_).most_common()[-10:])"
   ]
  },
  {
   "cell_type": "code",
   "execution_count": 20,
   "metadata": {
    "collapsed": false
   },
   "outputs": [
    {
     "name": "stdout",
     "output_type": "stream",
     "text": [
      "5.503887 search category / refinement   form-type:search\n",
      "5.191162 search query                   form-type:search\n",
      "3.687156 product quantity               form-type:order/add to cart\n",
      "3.480852 remember me checkbox           form-type:login\n",
      "2.859949 sorting option                 form-type:search\n",
      "2.809606 comment text                   form-type:contact/comment\n",
      "2.278853 full name                      form-type:contact/comment\n",
      "2.264468 comment title or subject       form-type:contact/comment\n",
      "1.915475 TOS confirmation               form-type:other\n",
      "1.909192 email                          form-type:join mailing list\n",
      "1.700867 other number                   form-type:search\n",
      "1.698757 honeypot                       form-type:contact/comment\n",
      "1.599296 username                       form-type:password/login recovery\n",
      "1.507415 other                          form-type:other\n",
      "1.486112 receive emails confirmation    form-type:registration\n",
      "1.412938 about me text                  form-type:registration\n",
      "1.342868 style select                   form-type:other\n",
      "1.330604 other                          form-type:order/add to cart\n",
      "1.165471 username                       form-type:registration\n",
      "1.131049 gender                         form-type:registration\n",
      "1.020059 username or email              form-type:login\n",
      "1.014424 full date                      form-type:search\n",
      "0.963375 captcha                        form-type:contact/comment\n",
      "0.959851 city                           form-type:search\n",
      "0.957146 security question              form-type:registration\n",
      "0.908648 url                            form-type:other\n",
      "0.857250 other                          form-type:contact/comment\n",
      "0.832481 username or email              form-type:password/login recovery\n",
      "0.784852 password                       form-type:login\n",
      "0.759310 username                       form-type:login\n",
      "0.734724 country                        form-type:registration\n",
      "0.731456 postal code                    form-type:other\n",
      "0.688396 other                          form-type:join mailing list\n",
      "0.658216 submit button                  form-type:order/add to cart\n",
      "0.625014 phone                          form-type:registration\n",
      "0.621839 first name                     form-type:join mailing list\n",
      "0.621792 password confirmation          form-type:registration\n",
      "0.570176 captcha                        form-type:registration\n",
      "0.536687 OpenID                         form-type:login\n",
      "0.521455 TOS confirmation               form-type:registration\n",
      "0.462538 year                           form-type:registration\n",
      "0.454401 submit button                  form-type:search\n",
      "0.437056 address                        form-type:search\n",
      "0.424974 last name                      form-type:password/login recovery\n",
      "0.309187 submit button                  form-type:join mailing list\n",
      "0.273553 first name                     form-type:contact/comment\n",
      "0.270707 cancel button                  form-type:registration\n",
      "0.150232 day                            form-type:registration\n",
      "0.118781 state                          form-type:other\n",
      "0.111662 url                            form-type:order/add to cart\n",
      "0.096062 other number                   form-type:other\n",
      "0.081026 answer to security question    form-type:registration\n",
      "0.058490 organization name              form-type:contact/comment\n",
      "0.051186 fax                            form-type:registration\n",
      "0.007438 state                          form-type:search\n",
      "0.005471 address                        form-type:contact/comment\n",
      "0.000362 reset/clear button             form-type:login\n",
      "-0.005651 address                        form-type:registration\n",
      "-0.026037 other                          form-type:registration\n",
      "-0.045462 first name                     form-type:registration\n",
      "-0.049368 state                          form-type:registration\n",
      "-0.050954 other number                   form-type:registration\n",
      "-0.059982 about me text                  form-type:contact/comment\n",
      "-0.075396 full date                      form-type:registration\n",
      "-0.089012 first name                     form-type:other\n",
      "-0.090177 username                       form-type:join mailing list\n",
      "-0.097054 email                          form-type:order/add to cart\n",
      "-0.108410 captcha                        form-type:search\n",
      "-0.179691 submit button                  form-type:password/login recovery\n",
      "-0.188628 TOS confirmation               form-type:contact/comment\n",
      "-0.223358 full name                      form-type:registration\n",
      "-0.255577 remember me checkbox           form-type:registration\n",
      "-0.337300 email                          form-type:registration\n",
      "-1.227122 submit button                  form-type:registration\n",
      "-1.377278 comment text                   form-type:registration\n",
      "-2.064874 username                       form-type:contact/comment\n",
      "-2.335361 other                          form-type:search\n"
     ]
    }
   ],
   "source": [
    "def _filtered_state_features(state_features, query, k=1):\n",
    "    return Counter({\n",
    "        (attr, label): weight\n",
    "        for ((attr, label), weight) in state_features.items()\n",
    "        if (query in attr or query in label) and k*weight >= 0\n",
    "    })\n",
    "\n",
    "\n",
    "def print_state_features(state_features):\n",
    "    for (attr, label), weight in state_features:\n",
    "        print(\"%0.6f %-30s %s\" % (weight, label, attr))    \n",
    "        \n",
    "\n",
    "def print_top_positive(crf, N, query=''):\n",
    "    print(\"\\nTop positive:\")\n",
    "    cnt = _filtered_state_features(crf.state_features_, query, 1)\n",
    "    print_state_features(cnt.most_common(N))\n",
    "    \n",
    "\n",
    "def print_top_negative(crf, N, query=''):\n",
    "    print(\"\\nTop negative:\")\n",
    "    cnt = _filtered_state_features(crf.state_features_, query, -1)\n",
    "    print_state_features(cnt.most_common()[-N:])\n",
    "    \n",
    "\n",
    "def print_top(crf, N, query=''):\n",
    "    cnt = _filtered_state_features(crf.state_features_, query, 0)\n",
    "    print_state_features(cnt.most_common(N))\n",
    "    \n",
    "\n",
    "print_top(crf, 150, 'form-type')\n",
    "\n",
    "# print(\"\\nTop negative:\")\n",
    "# print_top_negative(info, 30, 'input-type')"
   ]
  },
  {
   "cell_type": "code",
   "execution_count": null,
   "metadata": {
    "collapsed": true
   },
   "outputs": [],
   "source": []
  },
  {
   "cell_type": "code",
   "execution_count": null,
   "metadata": {
    "collapsed": true
   },
   "outputs": [],
   "source": []
  },
  {
   "cell_type": "code",
   "execution_count": null,
   "metadata": {
    "collapsed": true
   },
   "outputs": [],
   "source": []
  },
  {
   "cell_type": "code",
   "execution_count": null,
   "metadata": {
    "collapsed": true
   },
   "outputs": [],
   "source": []
  },
  {
   "cell_type": "code",
   "execution_count": null,
   "metadata": {
    "collapsed": true
   },
   "outputs": [],
   "source": []
  },
  {
   "cell_type": "code",
   "execution_count": null,
   "metadata": {
    "collapsed": true
   },
   "outputs": [],
   "source": []
  },
  {
   "cell_type": "code",
   "execution_count": null,
   "metadata": {
    "collapsed": true
   },
   "outputs": [],
   "source": []
  },
  {
   "cell_type": "code",
   "execution_count": null,
   "metadata": {
    "collapsed": true
   },
   "outputs": [],
   "source": []
  },
  {
   "cell_type": "code",
   "execution_count": null,
   "metadata": {
    "collapsed": true
   },
   "outputs": [],
   "source": []
  },
  {
   "cell_type": "code",
   "execution_count": null,
   "metadata": {
    "collapsed": true
   },
   "outputs": [],
   "source": []
  },
  {
   "cell_type": "code",
   "execution_count": null,
   "metadata": {
    "collapsed": true
   },
   "outputs": [],
   "source": []
  },
  {
   "cell_type": "code",
   "execution_count": null,
   "metadata": {
    "collapsed": true
   },
   "outputs": [],
   "source": []
  },
  {
   "cell_type": "code",
   "execution_count": null,
   "metadata": {
    "collapsed": true
   },
   "outputs": [],
   "source": []
  },
  {
   "cell_type": "code",
   "execution_count": null,
   "metadata": {
    "collapsed": true
   },
   "outputs": [],
   "source": []
  },
  {
   "cell_type": "code",
   "execution_count": null,
   "metadata": {
    "collapsed": true
   },
   "outputs": [],
   "source": []
  },
  {
   "cell_type": "code",
   "execution_count": null,
   "metadata": {
    "collapsed": true
   },
   "outputs": [],
   "source": []
  }
 ],
 "metadata": {
  "kernelspec": {
   "display_name": "Python 3",
   "language": "python",
   "name": "python3"
  },
  "language_info": {
   "codemirror_mode": {
    "name": "ipython",
    "version": 3
   },
   "file_extension": ".py",
   "mimetype": "text/x-python",
   "name": "python",
   "nbconvert_exporter": "python",
   "pygments_lexer": "ipython3",
   "version": "3.4.2"
  }
 },
 "nbformat": 4,
 "nbformat_minor": 0
}
