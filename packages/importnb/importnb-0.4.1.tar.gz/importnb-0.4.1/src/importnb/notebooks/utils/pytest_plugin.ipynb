{
 "cells": [
  {
   "cell_type": "code",
   "execution_count": 1,
   "metadata": {},
   "outputs": [],
   "source": [
    "    import pytest\n",
    "    try:\n",
    "        from ..loader import Notebook\n",
    "    except:\n",
    "        from importnb.loader import Notebook\n",
    "\n",
    "    loader = Notebook\n",
    "\n",
    "    def pytest_collect_file(parent, path):\n",
    "        if path.ext in ('.ipynb', '.py'):\n",
    "            if not parent.session.isinitpath(path):\n",
    "                for pat in parent.config.getini('python_files'):\n",
    "                    if path.fnmatch(pat.rstrip('.py') + path.ext):\n",
    "                        break\n",
    "                else:\n",
    "                    return\n",
    "            return PytestModule(path, parent)\n",
    "\n",
    "    class PytestModule(pytest.Module):\n",
    "        def collect(self):\n",
    "            global loader\n",
    "            with loader(): \n",
    "                return super().collect()"
   ]
  },
  {
   "cell_type": "code",
   "execution_count": 4,
   "metadata": {
    "scrolled": false
   },
   "outputs": [],
   "source": [
    "    if __name__ ==  '__main__':\n",
    "        from importnb.utils.export import export\n",
    "        export('pytest_plugin.ipynb', '../../utils/pytest_plugin.py')"
   ]
  }
 ],
 "metadata": {
  "kernelspec": {
   "display_name": "p6",
   "language": "python",
   "name": "other-env"
  },
  "language_info": {
   "codemirror_mode": {
    "name": "ipython",
    "version": 3
   },
   "file_extension": ".py",
   "mimetype": "text/x-python",
   "name": "python",
   "nbconvert_exporter": "python",
   "pygments_lexer": "ipython3",
   "version": "3.6.3"
  }
 },
 "nbformat": 4,
 "nbformat_minor": 2
}
