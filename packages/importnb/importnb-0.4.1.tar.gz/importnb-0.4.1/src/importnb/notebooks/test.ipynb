{
 "cells": [
  {
   "cell_type": "markdown",
   "metadata": {},
   "source": [
    "# Notebook testing loaders and notebook unittests\n",
    "\n",
    "    >>> assert inspect.signature(main) == inspect.signature(_main)\n",
    "    >>> assert inspect.getdoc(main) == inspect.getdoc(_main)"
   ]
  },
  {
   "cell_type": "code",
   "execution_count": 1,
   "metadata": {},
   "outputs": [],
   "source": [
    "    from unittest import main as _main, TestCase  \n",
    "    from types import ModuleType\n",
    "    import sys, inspect, copy\n",
    "    __file__ = globals().get('__file__', None)"
   ]
  },
  {
   "cell_type": "code",
   "execution_count": 2,
   "metadata": {},
   "outputs": [],
   "source": [
    "    def attach_doctest(module):\n",
    "        \"\"\"A function to include doctests in a unittest suite.\n",
    "        \"\"\"\n",
    "        from doctest import DocTestSuite\n",
    "        def load_tests(loader, tests, ignore):\n",
    "            tests.addTests(DocTestSuite(module))\n",
    "            return tests\n",
    "        module.load_tests = load_tests\n",
    "        return module"
   ]
  },
  {
   "cell_type": "code",
   "execution_count": 3,
   "metadata": {},
   "outputs": [],
   "source": [
    "    try: from .loader import Notebook\n",
    "    except: from loader import Notebook"
   ]
  },
  {
   "cell_type": "code",
   "execution_count": 4,
   "metadata": {},
   "outputs": [],
   "source": [
    "    class DoctestModule(Notebook):\n",
    "        def exec_module(self, module, **kwargs):\n",
    "            super().exec_module(module)\n",
    "            "
   ]
  },
  {
   "cell_type": "code",
   "execution_count": 5,
   "metadata": {},
   "outputs": [],
   "source": [
    "    class UnittestModule(Notebook):\n",
    "        def exec_module(self, module, **kwargs):\n",
    "            super().exec_module(module)\n",
    "            _main(module=module, argv=module.__file__.split())"
   ]
  },
  {
   "cell_type": "code",
   "execution_count": 6,
   "metadata": {},
   "outputs": [],
   "source": [
    "    def main(module=None, *args, doctest=True, exit=False, argv=\"--doctest\", **dict):\n",
    "        \"\"\"In interactive mode we do not want to raise SystemExit\"\"\"\n",
    "        \n",
    "        dict.update(exit=exit, argv=argv)\n",
    "        \n",
    "        loader = Notebook\n",
    "        \n",
    "        if sys.argv[0] == __file__:\n",
    "            argv = sys.argv\n",
    "        else:\n",
    "            if isinstance(argv, str):\n",
    "                argv = argv.split()\n",
    "            if 'discover' not in argv:\n",
    "                argv = ['discover'] + argv\n",
    "\n",
    "        if '--doctest' in argv:\n",
    "            argv.pop(argv.index('--doctest'))\n",
    "            doctest = True\n",
    "        \n",
    "        if doctest:\n",
    "            if isinstance(module, ModuleType):\n",
    "                attach_doctest(module)\n",
    "            else:\n",
    "                loader = DoctestModule\n",
    "        \n",
    "        dict.update(argv=argv)\n",
    "        \n",
    "        with loader(): _main(module, *args, **dict)\n",
    "            \n",
    "    main.__signature__ = inspect.signature(_main)\n",
    "    main.__doc__ = inspect.getdoc(_main)"
   ]
  },
  {
   "cell_type": "code",
   "execution_count": 7,
   "metadata": {},
   "outputs": [],
   "source": [
    "    class AUnitTestExample(TestCase):\n",
    "        def test_this(self): assert True"
   ]
  },
  {
   "cell_type": "code",
   "execution_count": 8,
   "metadata": {
    "scrolled": false
   },
   "outputs": [
    {
     "name": "stderr",
     "output_type": "stream",
     "text": [
      "..\n",
      "----------------------------------------------------------------------\n",
      "Ran 2 tests in 0.007s\n",
      "\n",
      "OK\n"
     ]
    }
   ],
   "source": [
    "    if __name__ ==  '__main__':\n",
    "        if sys.argv[0] == __file__:\n",
    "            main(module=None, exit=True, argv=None)\n",
    "        else:\n",
    "            try: from .utils.export import export\n",
    "            except: from utils.export import export\n",
    "            export('test.ipynb', '../test.py')\n",
    "            module = Notebook().from_filename('test.ipynb', 'importnb.notebooks')\n",
    "            main(module)"
   ]
  },
  {
   "cell_type": "code",
   "execution_count": null,
   "metadata": {},
   "outputs": [],
   "source": []
  }
 ],
 "metadata": {
  "kernelspec": {
   "display_name": "p6",
   "language": "python",
   "name": "other-env"
  },
  "language_info": {
   "codemirror_mode": {
    "name": "ipython",
    "version": 3
   },
   "file_extension": ".py",
   "mimetype": "text/x-python",
   "name": "python",
   "nbconvert_exporter": "python",
   "pygments_lexer": "ipython3",
   "version": "3.6.3"
  }
 },
 "nbformat": 4,
 "nbformat_minor": 2
}
