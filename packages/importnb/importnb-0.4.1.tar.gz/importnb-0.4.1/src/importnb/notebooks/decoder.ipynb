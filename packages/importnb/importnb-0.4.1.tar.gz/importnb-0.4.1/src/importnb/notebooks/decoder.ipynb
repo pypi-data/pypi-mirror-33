{
 "cells": [
  {
   "cell_type": "code",
   "execution_count": 1,
   "metadata": {},
   "outputs": [],
   "source": [
    "    from json.decoder import JSONObject, JSONDecoder, WHITESPACE, WHITESPACE_STR\n",
    "    from json import load as _load, loads as _loads\n",
    "    from functools import partial"
   ]
  },
  {
   "cell_type": "code",
   "execution_count": 2,
   "metadata": {},
   "outputs": [],
   "source": [
    "    class LineNumberDecoder(JSONDecoder):\n",
    "        \"\"\"A JSON Decoder to return a NotebookNode with lines numbers in the metadata.\"\"\"\n",
    "        def __init__(self, *, object_hook=None, parse_float=None, parse_int=None, parse_constant=None, strict=True, object_pairs_hook=None):\n",
    "            from json.scanner import py_make_scanner\n",
    "            super().__init__(object_hook=object_hook, parse_float=parse_float, parse_int=parse_int, parse_constant=parse_constant, strict=strict, \n",
    "                             object_pairs_hook=object_pairs_hook)\n",
    "            self.parse_object = self._parse_object\n",
    "            self.scan_once = py_make_scanner(self)\n",
    "            \n",
    "        def _parse_object(\n",
    "            self, \n",
    "            s_and_end, \n",
    "            strict, scan_once, object_hook, object_pairs_hook, memo=None, _w=WHITESPACE.match, _ws=WHITESPACE_STR\n",
    "        ) -> (dict, int):\n",
    "            object, next = JSONObject(s_and_end, strict, scan_once, object_hook, object_pairs_hook, memo=memo, _w=_w, _ws=_ws)\n",
    "            if 'cell_type' in object: \n",
    "                object['metadata'].update({\n",
    "                    'lineno':  len(s_and_end[0][:next].rsplit('\"source\":', 1)[0].splitlines())\n",
    "                })\n",
    "                                \n",
    "            for key in ('source', 'text'): \n",
    "                if key in object: object[key] = ''.join(object[key])\n",
    "                    \n",
    "            return object, next"
   ]
  },
  {
   "cell_type": "code",
   "execution_count": 3,
   "metadata": {},
   "outputs": [],
   "source": [
    "    loads = partial(_loads, cls=LineNumberDecoder)"
   ]
  },
  {
   "cell_type": "code",
   "execution_count": 4,
   "metadata": {},
   "outputs": [],
   "source": [
    "    if __name__ ==  '__main__':\n",
    "        try:  from utils.export import export\n",
    "        except: from .utils.export import export\n",
    "        export('decoder.ipynb', '../decoder.py')"
   ]
  },
  {
   "cell_type": "markdown",
   "metadata": {},
   "source": [
    "# More Information\n",
    "\n",
    "The `importnb.loader` module recreates basic Python importing abilities.  Have a look at [`execute.ipynb`](execute.ipynb) for more advanced usages."
   ]
  }
 ],
 "metadata": {
  "kernelspec": {
   "display_name": "p6",
   "language": "python",
   "name": "other-env"
  },
  "language_info": {
   "codemirror_mode": {
    "name": "ipython",
    "version": 3
   },
   "file_extension": ".py",
   "mimetype": "text/x-python",
   "name": "python",
   "nbconvert_exporter": "python",
   "pygments_lexer": "ipython3",
   "version": "3.6.3"
  },
  "toc": {
   "colors": {
    "hover_highlight": "#DAA520",
    "running_highlight": "#FF0000",
    "selected_highlight": "#FFD700"
   },
   "moveMenuLeft": true,
   "nav_menu": {
    "height": "29px",
    "width": "252px"
   },
   "navigate_menu": true,
   "number_sections": true,
   "sideBar": true,
   "threshold": 4,
   "toc_cell": false,
   "toc_section_display": "block",
   "toc_window_display": false,
   "widenNotebook": false
  },
  "varInspector": {
   "cols": {
    "lenName": 16,
    "lenType": 16,
    "lenVar": 40
   },
   "kernels_config": {
    "python": {
     "delete_cmd_postfix": "",
     "delete_cmd_prefix": "del ",
     "library": "var_list.py",
     "varRefreshCmd": "print(var_dic_list())"
    },
    "r": {
     "delete_cmd_postfix": ") ",
     "delete_cmd_prefix": "rm(",
     "library": "var_list.r",
     "varRefreshCmd": "cat(var_dic_list()) "
    }
   },
   "types_to_exclude": [
    "module",
    "function",
    "builtin_function_or_method",
    "instance",
    "_Feature"
   ],
   "window_display": false
  }
 },
 "nbformat": 4,
 "nbformat_minor": 2
}
